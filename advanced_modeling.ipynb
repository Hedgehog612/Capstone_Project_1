{
 "cells": [
  {
   "cell_type": "code",
   "execution_count": 1,
   "metadata": {},
   "outputs": [],
   "source": [
    "%matplotlib inline\n",
    "import pandas as pd\n",
    "import numpy as np\n",
    "from datetime import datetime as dt\n",
    "import io\n",
    "import requests\n",
    "import matplotlib as mp\n",
    "from matplotlib import rcParams\n",
    "import matplotlib.pyplot as plt\n",
    "import matplotlib.collections as col\n",
    "import matplotlib.patches as mpatches\n",
    "import matplotlib.cm as cm\n",
    "import seaborn as sns\n",
    "import math\n",
    "import scipy as sp\n",
    "import scipy.stats as stats\n",
    "import sklearn\n",
    "from sklearn.model_selection import train_test_split\n",
    "from sklearn import naive_bayes\n",
    "from sklearn.ensemble import RandomForestRegressor\n",
    "from statsmodels.stats.anova import anova_lm\n",
    "from statsmodels.graphics.regressionplots import *\n",
    "from statsmodels.formula.api import ols\n",
    "import statsmodels.api as sm\n",
    "from sklearn.feature_extraction.text import CountVectorizer\n",
    "from sklearn.metrics import confusion_matrix\n",
    "import itertools\n",
    "sns.set_style(\"whitegrid\")\n",
    "sns.set_context(\"poster\")"
   ]
  },
  {
   "cell_type": "code",
   "execution_count": 2,
   "metadata": {},
   "outputs": [],
   "source": [
    "all_polls = pd.read_csv('all_polls.csv')"
   ]
  },
  {
   "cell_type": "code",
   "execution_count": 4,
   "metadata": {},
   "outputs": [],
   "source": [
    "errorPolls = all_polls[['samplesize', 'error', 'bias', 'pollster', 'state', 'type_simple', 'partisan_race', 'polldistance', 'year', 'partisan_race', 'cand1_pct', 'cand2_pct', 'rightcall']]"
   ]
  },
  {
   "cell_type": "code",
   "execution_count": 5,
   "metadata": {},
   "outputs": [],
   "source": [
    "#Removing some outliers. errorPolls has all the most relevant columns from allPolls with the\n",
    "#outliers trimmed out. Only affects six polls.\n",
    "errorPolls = errorPolls[errorPolls['error'] < 90]\n",
    "errorPolls.reset_index(drop = True, inplace = True)"
   ]
  },
  {
   "cell_type": "code",
   "execution_count": 13,
   "metadata": {},
   "outputs": [
    {
     "name": "stderr",
     "output_type": "stream",
     "text": [
      "C:\\Users\\marcu\\Anaconda3\\lib\\site-packages\\pandas\\core\\generic.py:6786: SettingWithCopyWarning: \n",
      "A value is trying to be set on a copy of a slice from a DataFrame\n",
      "\n",
      "See the caveats in the documentation: http://pandas.pydata.org/pandas-docs/stable/user_guide/indexing.html#returning-a-view-versus-a-copy\n",
      "  self._update_inplace(new_data)\n",
      "C:\\Users\\marcu\\Anaconda3\\lib\\site-packages\\pandas\\core\\series.py:853: RuntimeWarning: divide by zero encountered in log\n",
      "  result = getattr(ufunc, method)(*inputs, **kwargs)\n"
     ]
    }
   ],
   "source": [
    "#generate mean error and standard deviation of error per pollster, log of error.\n",
    "#To prevent log of zero errors, we replace errors of 0 with 0.01.\n",
    "pollerror = all_polls.groupby('pollster').mean()\n",
    "pollerror = pollerror[['error']]\n",
    "pollstd = all_polls.groupby('pollster').std()\n",
    "pollstd = pollstd[['error']]\n",
    "pollerror.rename(columns = {'error':'pollster_error'}, inplace = True)\n",
    "pollstd.rename(columns = {'error':'pollster_std'}, inplace = True)\n",
    "errorPolls = errorPolls.merge(pollerror, how = 'left', left_on = 'pollster', right_on = 'pollster')\n",
    "errorPolls = errorPolls.merge(pollstd, how = 'left', left_on = 'pollster', right_on = 'pollster')\n",
    "errorPolls.fillna(0, inplace = True)\n",
    "errorPolls.error.replace(0, 0.01, inplace = True)\n",
    "errorPolls['log_error'] = np.log(errorPolls['error'])"
   ]
  },
  {
   "cell_type": "code",
   "execution_count": 14,
   "metadata": {},
   "outputs": [],
   "source": [
    "#Generate a set of commonly used x and y values\n",
    "sample_std = errorPolls[['samplesize', 'pollster_std']]\n",
    "sample_error = errorPolls[['samplesize', 'pollster_error']]\n",
    "error = errorPolls['error']\n",
    "log_error = errorPolls['log_error']"
   ]
  },
  {
   "cell_type": "code",
   "execution_count": 15,
   "metadata": {},
   "outputs": [
    {
     "name": "stdout",
     "output_type": "stream",
     "text": [
      "0.6113213966948299 7987.778860525593\n"
     ]
    }
   ],
   "source": [
    "basic_model = sm.OLS(error, sample_error).fit()\n",
    "print(basic_model.rsquared_adj, basic_model.fvalue)"
   ]
  },
  {
   "cell_type": "code",
   "execution_count": 16,
   "metadata": {},
   "outputs": [
    {
     "name": "stdout",
     "output_type": "stream",
     "text": [
      "0.5551768095506242 7987.778860525593\n"
     ]
    }
   ],
   "source": [
    "basic_std_model = sm.OLS(error, sample_std).fit()\n",
    "print(basic_std_model.rsquared_adj, basic_model.fvalue)"
   ]
  },
  {
   "cell_type": "code",
   "execution_count": 17,
   "metadata": {},
   "outputs": [
    {
     "name": "stdout",
     "output_type": "stream",
     "text": [
      "nan nan\n"
     ]
    }
   ],
   "source": [
    "log_basic_model = sm.OLS(log_error, sample_error).fit()\n",
    "print(log_basic_model.rsquared_adj, log_basic_model.fvalue)"
   ]
  },
  {
   "cell_type": "code",
   "execution_count": 18,
   "metadata": {},
   "outputs": [
    {
     "name": "stdout",
     "output_type": "stream",
     "text": [
      "nan nan\n"
     ]
    }
   ],
   "source": [
    "log_basic_std_model = sm.OLS(log_error, sample_std).fit()\n",
    "print(log_basic_std_model.rsquared_adj, log_basic_model.fvalue)"
   ]
  },
  {
   "cell_type": "code",
   "execution_count": 19,
   "metadata": {},
   "outputs": [],
   "source": [
    "#OLS does a good job of predicting maximum error but is much worse at predicting exact error.\n",
    "#We need a different model here.\n",
    "#I'll note that in this case the log of the data is worse, but it performed better\n",
    "#for the max_error model, so I'll check both"
   ]
  },
  {
   "cell_type": "code",
   "execution_count": 20,
   "metadata": {},
   "outputs": [],
   "source": [
    "#Many classifiers, such as random forests and naive Baysean, are models of binary clasification:\n",
    "#Given data, differentiate between A and B. We have continuous data sets: error can be 0-100 inclusive\n",
    "#and there are ~270 counties across 50 states and a few extras (i.e. DC).\n",
    "#We need to pick a threshold for our data."
   ]
  },
  {
   "cell_type": "code",
   "execution_count": 21,
   "metadata": {},
   "outputs": [
    {
     "name": "stdout",
     "output_type": "stream",
     "text": [
      "5.485425364316677\n",
      "4.84293420190412\n"
     ]
    }
   ],
   "source": [
    "print(np.mean(errorPolls.error))\n",
    "print(np.std(errorPolls.error))"
   ]
  },
  {
   "cell_type": "code",
   "execution_count": 22,
   "metadata": {},
   "outputs": [],
   "source": [
    "#Mean error is 5.485, with 2/3 polls between ~1 and ~10."
   ]
  },
  {
   "cell_type": "code",
   "execution_count": 23,
   "metadata": {},
   "outputs": [
    {
     "name": "stdout",
     "output_type": "stream",
     "text": [
      "10156\n",
      "0.5195943284757779\n",
      "0.4664237888932651\n",
      "0.2471445450964947\n",
      "0.11894446632532493\n"
     ]
    }
   ],
   "source": [
    "print(len(errorPolls))\n",
    "totalError = len(errorPolls)\n",
    "print(len(errorPolls[errorPolls['error'] < 4.5])/totalError)\n",
    "print(len(errorPolls[errorPolls['error'] < 4])/totalError)\n",
    "print(len(errorPolls[errorPolls['error'] < 2])/totalError)\n",
    "print(len(errorPolls[errorPolls['error'] < 1])/totalError)"
   ]
  },
  {
   "cell_type": "code",
   "execution_count": 24,
   "metadata": {},
   "outputs": [],
   "source": [
    "#Looks like if we want to halve the data, we should select error 4-4.5.\n",
    "#We can go down to 2 and still have a quarter of the dataset to check, but going down to 1 seems\n",
    "#overly ambitious.\n",
    "#For the first pass, let's test thresholds of 4 and 2."
   ]
  },
  {
   "cell_type": "code",
   "execution_count": 25,
   "metadata": {},
   "outputs": [],
   "source": [
    "errorPolls['decentPoll'] = (errorPolls['error'] <= 4).values.astype(np.int)\n",
    "errorPolls['goodPoll'] = (errorPolls['error'] <= 2).values.astype(np.int)\n",
    "decentPoll = errorPolls['decentPoll'].values\n",
    "goodPoll = errorPolls['goodPoll'].values"
   ]
  },
  {
   "cell_type": "code",
   "execution_count": 26,
   "metadata": {},
   "outputs": [],
   "source": [
    "#Tests a multinomial naive Bayes on independent, dependent variables, returns train, test score\n",
    "def mnb_report(x, y):\n",
    "    ind_train, ind_test, dep_train, dep_test = train_test_split(x, y)\n",
    "    mnb_basic = naive_bayes.MultinomialNB()\n",
    "    mnb_basic.fit(ind_train, dep_train)\n",
    "    train_pred = mnb_basic.predict(ind_train)\n",
    "    test_pred = mnb_basic.predict(ind_test)\n",
    "    train_score = sklearn.metrics.accuracy_score(dep_train, train_pred)\n",
    "    test_score = sklearn.metrics.accuracy_score(dep_test, test_pred)\n",
    "    f1_score = sklearn.metrics.f1_score(dep_test, test_pred)\n",
    "    cm = confusion_matrix(dep_test, test_pred)\n",
    "    return train_score, test_score, f1_score, cm"
   ]
  },
  {
   "cell_type": "code",
   "execution_count": 27,
   "metadata": {},
   "outputs": [
    {
     "name": "stdout",
     "output_type": "stream",
     "text": [
      "(0.5675462780622292, 0.5726664040961008, 0.4169801182160129, array([[1066,  305],\n",
      "       [ 780,  388]], dtype=int64))\n"
     ]
    }
   ],
   "source": [
    "print(mnb_report(sample_error, decentPoll))"
   ]
  },
  {
   "cell_type": "code",
   "execution_count": 28,
   "metadata": {},
   "outputs": [
    {
     "ename": "NameError",
     "evalue": "name 'sample_distance_std' is not defined",
     "output_type": "error",
     "traceback": [
      "\u001b[1;31m---------------------------------------------------------------------------\u001b[0m",
      "\u001b[1;31mNameError\u001b[0m                                 Traceback (most recent call last)",
      "\u001b[1;32m<ipython-input-28-84d4559c0831>\u001b[0m in \u001b[0;36m<module>\u001b[1;34m\u001b[0m\n\u001b[1;32m----> 1\u001b[1;33m \u001b[0mprint\u001b[0m\u001b[1;33m(\u001b[0m\u001b[0mmnb_report\u001b[0m\u001b[1;33m(\u001b[0m\u001b[0msample_distance_std\u001b[0m\u001b[1;33m,\u001b[0m \u001b[0mfourError\u001b[0m\u001b[1;33m)\u001b[0m\u001b[1;33m)\u001b[0m\u001b[1;33m\u001b[0m\u001b[1;33m\u001b[0m\u001b[0m\n\u001b[0m",
      "\u001b[1;31mNameError\u001b[0m: name 'sample_distance_std' is not defined"
     ]
    }
   ],
   "source": [
    "print(mnb_report(sample_distance_std, fourError))"
   ]
  },
  {
   "cell_type": "code",
   "execution_count": 29,
   "metadata": {},
   "outputs": [],
   "source": [
    "#Good news: no evidence of overfitting. Bad news: Not a great model. I have a lot of things to test,\n",
    "#so I need to move faster"
   ]
  },
  {
   "cell_type": "code",
   "execution_count": 30,
   "metadata": {},
   "outputs": [],
   "source": [
    "#Setting up a list of ind, dep for the function to crunch\n",
    "sample = errorPolls['samplesize']\n",
    "poll_std = errorPolls['pollster_std']\n",
    "poll_error = errorPolls['pollster_error']\n",
    "year = errorPolls['year']\n",
    "distance = errorPolls['polldistance']\n",
    "partisan = errorPolls['partisan_race']\n",
    "cand1_pct = errorPolls['cand1_pct']\n",
    "cand2_pct = errorPolls['cand2_pct']\n",
    "sample_std = errorPolls[['samplesize', 'pollster_std']]\n",
    "sample_error = errorPolls[['samplesize', 'pollster_error']]\n",
    "error = errorPolls['error']\n",
    "log_error = errorPolls['log_error']\n",
    "sample_distance_std = errorPolls[['samplesize', 'polldistance', 'pollster_std']]"
   ]
  },
  {
   "cell_type": "code",
   "execution_count": 31,
   "metadata": {},
   "outputs": [],
   "source": [
    "best_ind_vars = []\n",
    "best_dep_vars = []\n",
    "#This function takes in a list of potential independent variables and variable combinations\n",
    "#and another list of potential dependent variables.\n",
    "#It tests a mnb model on each one and returns the best model and its score.\n",
    "#Rewriting to store the best variables for later perusal.\n",
    "def mnb_all_xy(x, y):\n",
    "    model_results = []\n",
    "    for ind in x:\n",
    "        for dep in y:\n",
    "            train_score, test_score, f_score = mnb_report(ind, dep[1])\n",
    "            model_results.append([test_score, train_score, ind, dep[0], f_score])\n",
    "    #Find the best n models\n",
    "    #best_test = 0\n",
    "    #best_train = 0\n",
    "    #best_ind = ''\n",
    "    #best_dep = ''\n",
    "    best_f = 0\n",
    "    #failed_models = 0\n",
    "    #Loop through the results to find the best model\n",
    "    #Best model defined as model with best test score\n",
    "    for x in range(len(model_results)):\n",
    "        #if model_results[x][4] == 0:\n",
    "            #failed_models += 1\n",
    "        if model_results[x][4] > best_f:\n",
    "            #best_test = model_results[x][0]\n",
    "            #best_train = model_results[x][1]\n",
    "            best_ind_vars.append(model_results[x][2].columns)\n",
    "            best_dep_vars.append(model_results[x][3])\n",
    "            best_f = model_results[x][4]\n",
    "    #print('Evaluated ', len(model_results), ' models.')\n",
    "    #print('Best F-score: ', best_f)\n",
    "    #print('Best independent variables: ', best_ind)\n",
    "    #print('Best dependent variables: ', best_dep)\n",
    "    #print('Best training data score: ', best_train)\n",
    "    #print('Best test data score: ', best_test)\n",
    "    #print('Failed models: ', failed_models)"
   ]
  },
  {
   "cell_type": "code",
   "execution_count": 32,
   "metadata": {},
   "outputs": [],
   "source": [
    "#I'll briefly note that I spent an hour debugging this before I realized I had the variables\n",
    "#wrong in the mnb_report call. Note to self: Check the simple stuff first.\n",
    "#On the plus side, now I know more about vectorizers and matricies."
   ]
  },
  {
   "cell_type": "code",
   "execution_count": 33,
   "metadata": {},
   "outputs": [
    {
     "ename": "NameError",
     "evalue": "name 'ind_var' is not defined",
     "output_type": "error",
     "traceback": [
      "\u001b[1;31m---------------------------------------------------------------------------\u001b[0m",
      "\u001b[1;31mNameError\u001b[0m                                 Traceback (most recent call last)",
      "\u001b[1;32m<ipython-input-33-8aa75d61d858>\u001b[0m in \u001b[0;36m<module>\u001b[1;34m\u001b[0m\n\u001b[1;32m----> 1\u001b[1;33m \u001b[0mmnb_all_xy\u001b[0m\u001b[1;33m(\u001b[0m\u001b[0mind_var\u001b[0m\u001b[1;33m,\u001b[0m \u001b[0mdep_var\u001b[0m\u001b[1;33m)\u001b[0m\u001b[1;33m\u001b[0m\u001b[1;33m\u001b[0m\u001b[0m\n\u001b[0m",
      "\u001b[1;31mNameError\u001b[0m: name 'ind_var' is not defined"
     ]
    }
   ],
   "source": [
    "mnb_all_xy(ind_var, dep_var)"
   ]
  },
  {
   "cell_type": "code",
   "execution_count": 34,
   "metadata": {},
   "outputs": [],
   "source": [
    "#Looks like the model does best when it's set up to be more selective. We'll try again with a variety\n",
    "#of score cutoffs."
   ]
  },
  {
   "cell_type": "code",
   "execution_count": 35,
   "metadata": {},
   "outputs": [],
   "source": [
    "errorPolls['fourError'] = (errorPolls['error'] <= 4).values.astype(np.int)\n",
    "errorPolls['threeError'] = (errorPolls['error'] <= 3).values.astype(np.int)\n",
    "errorPolls['twoError'] = (errorPolls['error'] <= 2).values.astype(np.int)\n",
    "errorPolls['oneError'] = (errorPolls['error'] <= 1).values.astype(np.int)\n",
    "errorPolls['halfError'] = (errorPolls['error'] <= 0.5).values.astype(np.int)\n",
    "fourError = errorPolls['fourError'].values\n",
    "threeError = errorPolls['threeError'].values\n",
    "twoError = errorPolls['twoError'].values\n",
    "oneError = errorPolls['oneError'].values\n",
    "halfError = errorPolls['halfError'].values"
   ]
  },
  {
   "cell_type": "code",
   "execution_count": 36,
   "metadata": {},
   "outputs": [],
   "source": [
    "dep_var = [['fourError', fourError], ['threeError', threeError], ['twoError', twoError], \n",
    "           ['oneError', oneError], ['halfError', halfError]]"
   ]
  },
  {
   "cell_type": "code",
   "execution_count": 37,
   "metadata": {},
   "outputs": [
    {
     "ename": "NameError",
     "evalue": "name 'ind_var' is not defined",
     "output_type": "error",
     "traceback": [
      "\u001b[1;31m---------------------------------------------------------------------------\u001b[0m",
      "\u001b[1;31mNameError\u001b[0m                                 Traceback (most recent call last)",
      "\u001b[1;32m<ipython-input-37-8aa75d61d858>\u001b[0m in \u001b[0;36m<module>\u001b[1;34m\u001b[0m\n\u001b[1;32m----> 1\u001b[1;33m \u001b[0mmnb_all_xy\u001b[0m\u001b[1;33m(\u001b[0m\u001b[0mind_var\u001b[0m\u001b[1;33m,\u001b[0m \u001b[0mdep_var\u001b[0m\u001b[1;33m)\u001b[0m\u001b[1;33m\u001b[0m\u001b[1;33m\u001b[0m\u001b[0m\n\u001b[0m",
      "\u001b[1;31mNameError\u001b[0m: name 'ind_var' is not defined"
     ]
    }
   ],
   "source": [
    "mnb_all_xy(ind_var, dep_var)"
   ]
  },
  {
   "cell_type": "code",
   "execution_count": 38,
   "metadata": {},
   "outputs": [
    {
     "name": "stdout",
     "output_type": "stream",
     "text": [
      "[0.4785, 0.3752, 0.2566, 0.1267, 0.062]\n"
     ]
    }
   ],
   "source": [
    "#The model seems to get better the more selective I get.\n",
    "cutoff_point = [4, 3, 2, 1, 0.5]\n",
    "cutoff_size = []\n",
    "for cutoff in dep_var:\n",
    "    cutoff_size.append(len(cutoff[1][cutoff[1] == 1])/10000)\n",
    "print(cutoff_size)"
   ]
  },
  {
   "cell_type": "code",
   "execution_count": 39,
   "metadata": {},
   "outputs": [],
   "source": [
    "#at the last, we're separating 600 from 9400. Let's plot this trend."
   ]
  },
  {
   "cell_type": "code",
   "execution_count": 40,
   "metadata": {},
   "outputs": [
    {
     "name": "stdout",
     "output_type": "stream",
     "text": [
      "[0.5588814493895234, 0.6187475384009452, 0.7317841669948799, 0.8633320204805042, 0.9417093343836156]\n"
     ]
    }
   ],
   "source": [
    "model_scores = []\n",
    "for x in dep_var:\n",
    "    model_scores.append(mnb_report(sample_std, x[1])[1])\n",
    "print(model_scores)"
   ]
  },
  {
   "cell_type": "code",
   "execution_count": 41,
   "metadata": {},
   "outputs": [
    {
     "data": {
      "text/plain": [
       "Text(0, 0.5, '% data under threshold')"
      ]
     },
     "execution_count": 41,
     "metadata": {},
     "output_type": "execute_result"
    },
    {
     "data": {
      "image/png": "[encoded data removed]",
      "text/plain": [
       "<Figure size 432x288 with 1 Axes>"
      ]
     },
     "metadata": {
      "needs_background": "light"
     },
     "output_type": "display_data"
    }
   ],
   "source": [
    "plt.scatter(x = cutoff_point, y = cutoff_size)\n",
    "plt.xlabel('Cutoff point')\n",
    "plt.ylabel('% data under threshold')"
   ]
  },
  {
   "cell_type": "code",
   "execution_count": 42,
   "metadata": {},
   "outputs": [
    {
     "data": {
      "text/plain": [
       "Text(0, 0.5, 'Model test score')"
      ]
     },
     "execution_count": 42,
     "metadata": {},
     "output_type": "execute_result"
    },
    {
     "data": {
      "image/png": "[encoded data removed]",
      "text/plain": [
       "<Figure size 432x288 with 1 Axes>"
      ]
     },
     "metadata": {
      "needs_background": "light"
     },
     "output_type": "display_data"
    }
   ],
   "source": [
    "plt.scatter(x = cutoff_point, y = model_scores)\n",
    "plt.xlabel('Cutoff point')\n",
    "plt.ylabel('Model test score')"
   ]
  },
  {
   "cell_type": "code",
   "execution_count": 43,
   "metadata": {},
   "outputs": [],
   "source": [
    "#My concern is that this model may tend towards predicting everything falls past the cutoff,\n",
    "#which is punished less and less as we classify less of our pool as accurate.\n",
    "#I want to evaluate this on F-score, because I'm more interested in my positives than\n",
    "#my negatives - catching everything that meets the cutoff.\n",
    "#Rewrote the functions to take this into account."
   ]
  },
  {
   "cell_type": "code",
   "execution_count": 44,
   "metadata": {},
   "outputs": [
    {
     "ename": "NameError",
     "evalue": "name 'ind_var' is not defined",
     "output_type": "error",
     "traceback": [
      "\u001b[1;31m---------------------------------------------------------------------------\u001b[0m",
      "\u001b[1;31mNameError\u001b[0m                                 Traceback (most recent call last)",
      "\u001b[1;32m<ipython-input-44-8aa75d61d858>\u001b[0m in \u001b[0;36m<module>\u001b[1;34m\u001b[0m\n\u001b[1;32m----> 1\u001b[1;33m \u001b[0mmnb_all_xy\u001b[0m\u001b[1;33m(\u001b[0m\u001b[0mind_var\u001b[0m\u001b[1;33m,\u001b[0m \u001b[0mdep_var\u001b[0m\u001b[1;33m)\u001b[0m\u001b[1;33m\u001b[0m\u001b[1;33m\u001b[0m\u001b[0m\n\u001b[0m",
      "\u001b[1;31mNameError\u001b[0m: name 'ind_var' is not defined"
     ]
    }
   ],
   "source": [
    "mnb_all_xy(ind_var, dep_var)"
   ]
  },
  {
   "cell_type": "code",
   "execution_count": 45,
   "metadata": {},
   "outputs": [],
   "source": [
    "#We've got more work to do. This is only about as good as an OLS model right now.\n",
    "#Taking a sharper cutoff worstens the data. My model's aren't in any danger of overfitting,\n",
    "#though, so I should be able to improve things by adding new data, keeping in mind that\n",
    "#I need to be aware of dimensionality.\n",
    "#So far, the best model I've found is sample size and mean pollster error against error."
   ]
  },
  {
   "cell_type": "code",
   "execution_count": 46,
   "metadata": {},
   "outputs": [],
   "source": [
    "#Adding log_error tracking"
   ]
  },
  {
   "cell_type": "code",
   "execution_count": 47,
   "metadata": {},
   "outputs": [
    {
     "name": "stdout",
     "output_type": "stream",
     "text": [
      "-inf\n",
      "nan\n"
     ]
    }
   ],
   "source": [
    "print(np.mean(errorPolls['log_error']))\n",
    "print(np.std(errorPolls['log_error']))"
   ]
  },
  {
   "cell_type": "code",
   "execution_count": 48,
   "metadata": {},
   "outputs": [],
   "source": [
    "errorPolls['1.25_log_error'] = (errorPolls['log_error'] <= 1.25).values.astype(np.int)\n",
    "errorPolls['1_log_Error'] = (errorPolls['log_error'] <= 1).values.astype(np.int)\n",
    "errorPolls['.75_log_Error'] = (errorPolls['log_error'] <= .75).values.astype(np.int)\n",
    "errorPolls['.5_log_Error'] = (errorPolls['log_error'] <= .5).values.astype(np.int)\n",
    "errorPolls['.25_log_Error'] = (errorPolls['log_error'] <= .25).values.astype(np.int)\n",
    "#Logging as five-quarters, four-quarters, etc\n",
    "fiveQ_log_error = errorPolls['1.25_log_error'].values\n",
    "fourQ_log_error = errorPolls['1_log_Error'].values\n",
    "threeQ_log_error = errorPolls['.75_log_Error'].values\n",
    "twoQ_log_error = errorPolls['.5_log_Error'].values\n",
    "oneQ_log_error = errorPolls['.25_log_Error'].values"
   ]
  },
  {
   "cell_type": "code",
   "execution_count": 49,
   "metadata": {},
   "outputs": [],
   "source": [
    "dep_var.append(['fiveQ_log_error', fiveQ_log_error])\n",
    "dep_var.append(['fourQ_log_error', fourQ_log_error])\n",
    "dep_var.append(['threeQ_log_error', threeQ_log_error])\n",
    "dep_var.append(['twoQ_log_error', twoQ_log_error])\n",
    "dep_var.append(['oneQ_log_error', oneQ_log_error])"
   ]
  },
  {
   "cell_type": "code",
   "execution_count": 127,
   "metadata": {},
   "outputs": [
    {
     "name": "stdout",
     "output_type": "stream",
     "text": [
      "0        0\n",
      "1        1\n",
      "2        0\n",
      "3        0\n",
      "4        0\n",
      "        ..\n",
      "10151    0\n",
      "10152    0\n",
      "10153    1\n",
      "10154    0\n",
      "10155    0\n",
      "Name: 1.25_log_error, Length: 10156, dtype: int32\n"
     ]
    }
   ],
   "source": [
    "print(errorPolls['1.25_log_error'])"
   ]
  },
  {
   "cell_type": "code",
   "execution_count": 50,
   "metadata": {},
   "outputs": [],
   "source": [
    "#Adding state tracking - need to convert state to numerical data for mnb to process"
   ]
  },
  {
   "cell_type": "code",
   "execution_count": 51,
   "metadata": {},
   "outputs": [
    {
     "name": "stdout",
     "output_type": "stream",
     "text": [
      "['WV', 'NM', 'VT', 'NV', 'KS', 'PA', 'UT', 'MO', 'MA', 'RI', 'MI', 'NY', 'NH', 'MT', 'HI', 'ME', 'NE', 'TN', 'WA', 'WY', 'ID', 'VA', 'KY', 'AZ', 'MN', 'IA', 'OK', 'CO', 'FL', 'SC', 'WI', 'ND', 'AK', 'TX', 'CA', 'AR', 'NJ', 'LA', 'MD', 'OH', 'SD', 'MS', 'GA', 'OR', 'CT', 'AL', 'IN', 'IL', 'DC', 'US', 'DE', 'NC']\n",
      "52\n"
     ]
    }
   ],
   "source": [
    "allStates = []\n",
    "for x in errorPolls['state']:\n",
    "    if x not in allStates:\n",
    "        allStates.append(x)\n",
    "print(allStates)\n",
    "print(len(allStates))"
   ]
  },
  {
   "cell_type": "code",
   "execution_count": 52,
   "metadata": {
    "scrolled": true
   },
   "outputs": [
    {
     "name": "stdout",
     "output_type": "stream",
     "text": [
      "{'WV': 0, 'NM': 1, 'VT': 2, 'NV': 3, 'KS': 4, 'PA': 5, 'UT': 6, 'MO': 7, 'MA': 8, 'RI': 9, 'MI': 10, 'NY': 11, 'NH': 12, 'MT': 13, 'HI': 14, 'ME': 15, 'NE': 16, 'TN': 17, 'WA': 18, 'WY': 19, 'ID': 20, 'VA': 21, 'KY': 22, 'AZ': 23, 'MN': 24, 'IA': 25, 'OK': 26, 'CO': 27, 'FL': 28, 'SC': 29, 'WI': 30, 'ND': 31, 'AK': 32, 'TX': 33, 'CA': 34, 'AR': 35, 'NJ': 36, 'LA': 37, 'MD': 38, 'OH': 39, 'SD': 40, 'MS': 41, 'GA': 42, 'OR': 43, 'CT': 44, 'AL': 45, 'IN': 46, 'IL': 47, 'DC': 48, 'US': 49, 'DE': 50, 'NC': 51}\n"
     ]
    }
   ],
   "source": [
    "stateDict = {}\n",
    "stateNum = 0\n",
    "for abbr in allStates:\n",
    "    stateDict[abbr] = stateNum\n",
    "    stateNum += 1\n",
    "print(stateDict)"
   ]
  },
  {
   "cell_type": "code",
   "execution_count": 53,
   "metadata": {},
   "outputs": [],
   "source": [
    "errorPolls['stateNum'] = errorPolls['state']"
   ]
  },
  {
   "cell_type": "code",
   "execution_count": 54,
   "metadata": {},
   "outputs": [],
   "source": [
    "errorPolls['stateNum'] = errorPolls['state'].replace(stateDict)"
   ]
  },
  {
   "cell_type": "code",
   "execution_count": 55,
   "metadata": {},
   "outputs": [],
   "source": [
    "stateNum = errorPolls['stateNum']"
   ]
  },
  {
   "cell_type": "code",
   "execution_count": 56,
   "metadata": {},
   "outputs": [],
   "source": [
    "#Adding polling type tracking"
   ]
  },
  {
   "cell_type": "code",
   "execution_count": 57,
   "metadata": {},
   "outputs": [
    {
     "name": "stdout",
     "output_type": "stream",
     "text": [
      "['House-G', 'Pres-P', 'Gov-G', 'Sen-G', 'Pres-G']\n",
      "5\n"
     ]
    }
   ],
   "source": [
    "allPollTypes = []\n",
    "for x in errorPolls['type_simple']:\n",
    "    if x not in allPollTypes:\n",
    "        allPollTypes.append(x)\n",
    "print(allPollTypes)\n",
    "print(len(allPollTypes))"
   ]
  },
  {
   "cell_type": "code",
   "execution_count": 58,
   "metadata": {},
   "outputs": [
    {
     "name": "stdout",
     "output_type": "stream",
     "text": [
      "{'House-G': 0, 'Pres-P': 1, 'Gov-G': 2, 'Sen-G': 3, 'Pres-G': 4}\n"
     ]
    }
   ],
   "source": [
    "pollDict = {}\n",
    "pollNum = 0\n",
    "for poll in allPollTypes:\n",
    "    pollDict[poll] = pollNum\n",
    "    pollNum += 1\n",
    "print(pollDict)"
   ]
  },
  {
   "cell_type": "code",
   "execution_count": 59,
   "metadata": {
    "scrolled": true
   },
   "outputs": [],
   "source": [
    "errorPolls['pollNum'] = errorPolls['type_simple']"
   ]
  },
  {
   "cell_type": "code",
   "execution_count": 60,
   "metadata": {},
   "outputs": [],
   "source": [
    "errorPolls['pollNum'] = errorPolls['type_simple'].replace(pollDict)"
   ]
  },
  {
   "cell_type": "code",
   "execution_count": 61,
   "metadata": {},
   "outputs": [],
   "source": [
    "pollNum = errorPolls['pollNum']"
   ]
  },
  {
   "cell_type": "code",
   "execution_count": 62,
   "metadata": {},
   "outputs": [
    {
     "ename": "NameError",
     "evalue": "name 'ind_var' is not defined",
     "output_type": "error",
     "traceback": [
      "\u001b[1;31m---------------------------------------------------------------------------\u001b[0m",
      "\u001b[1;31mNameError\u001b[0m                                 Traceback (most recent call last)",
      "\u001b[1;32m<ipython-input-62-9473e54cdb7c>\u001b[0m in \u001b[0;36m<module>\u001b[1;34m\u001b[0m\n\u001b[1;32m----> 1\u001b[1;33m \u001b[0mprint\u001b[0m\u001b[1;33m(\u001b[0m\u001b[0mlen\u001b[0m\u001b[1;33m(\u001b[0m\u001b[0mind_var\u001b[0m\u001b[1;33m)\u001b[0m\u001b[1;33m)\u001b[0m\u001b[1;33m\u001b[0m\u001b[1;33m\u001b[0m\u001b[0m\n\u001b[0m\u001b[0;32m      2\u001b[0m \u001b[0mprint\u001b[0m\u001b[1;33m(\u001b[0m\u001b[0mlen\u001b[0m\u001b[1;33m(\u001b[0m\u001b[0mdep_var\u001b[0m\u001b[1;33m)\u001b[0m\u001b[1;33m)\u001b[0m\u001b[1;33m\u001b[0m\u001b[1;33m\u001b[0m\u001b[0m\n",
      "\u001b[1;31mNameError\u001b[0m: name 'ind_var' is not defined"
     ]
    }
   ],
   "source": [
    "print(len(ind_var))\n",
    "print(len(dep_var))"
   ]
  },
  {
   "cell_type": "code",
   "execution_count": 63,
   "metadata": {},
   "outputs": [
    {
     "ename": "NameError",
     "evalue": "name 'ind_var' is not defined",
     "output_type": "error",
     "traceback": [
      "\u001b[1;31m---------------------------------------------------------------------------\u001b[0m",
      "\u001b[1;31mNameError\u001b[0m                                 Traceback (most recent call last)",
      "\u001b[1;32m<ipython-input-63-8aa75d61d858>\u001b[0m in \u001b[0;36m<module>\u001b[1;34m\u001b[0m\n\u001b[1;32m----> 1\u001b[1;33m \u001b[0mmnb_all_xy\u001b[0m\u001b[1;33m(\u001b[0m\u001b[0mind_var\u001b[0m\u001b[1;33m,\u001b[0m \u001b[0mdep_var\u001b[0m\u001b[1;33m)\u001b[0m\u001b[1;33m\u001b[0m\u001b[1;33m\u001b[0m\u001b[0m\n\u001b[0m",
      "\u001b[1;31mNameError\u001b[0m: name 'ind_var' is not defined"
     ]
    }
   ],
   "source": [
    "mnb_all_xy(ind_var, dep_var)"
   ]
  },
  {
   "cell_type": "code",
   "execution_count": 64,
   "metadata": {},
   "outputs": [],
   "source": [
    "#We've improved things by adding poll type tracking to the model. Still needs work, unfortunately.\n",
    "#To note: adding poll type and state did not help.\n",
    "#Going to try passing this to a random forest model, see how that likes it."
   ]
  },
  {
   "cell_type": "code",
   "execution_count": 65,
   "metadata": {},
   "outputs": [],
   "source": [
    "#Tried: OLS, naive Bayes, random forests. Other ideas: per SKlearn algorithm cheat sheet,\n",
    "#elasticnet lasso or maybe linear SVC->KNeighbors->SVC ensemble classifiers. That's assuming\n",
    "#I want to aggressively bin my data, of course.\n",
    "#Lean towards random forests"
   ]
  },
  {
   "cell_type": "code",
   "execution_count": 66,
   "metadata": {},
   "outputs": [],
   "source": [
    "#What are some other things I can do with R visualizations of the US?\n",
    "#Option 1:Interactives showing trends over time. Not directly related to my project?\n",
    "#Option 2: Visualize more data directly."
   ]
  },
  {
   "cell_type": "code",
   "execution_count": 67,
   "metadata": {},
   "outputs": [],
   "source": [
    "#Generates all combinations of variables of size n or less from an initial array of \n",
    "#1D independent variables.\n",
    "#One consequence of this is that we can't keep giving the ind_vars their own names - I'll have\n",
    "#to examine the dataframe afterwards.\n",
    "def generate_combinations(ind_vars, n):\n",
    "    all_combinations = []\n",
    "    #omit n=1\n",
    "    for x in range(n-1):\n",
    "        #For input of 3, we want 2-3, not 0-1-2\n",
    "        n_combinations = itertools.combinations(ind_vars, x+2)\n",
    "        all_combinations = all_combinations + join_vars(n_combinations)\n",
    "    return all_combinations"
   ]
  },
  {
   "cell_type": "code",
   "execution_count": 68,
   "metadata": {},
   "outputs": [],
   "source": [
    "#Takes an itertools output, an iterator that produces lists of variable length, and returns\n",
    "#returns a list of dataframes that are ready to be passed to the model\n",
    "def join_vars(n_combinations):\n",
    "    new_combinations = []\n",
    "    for tuple_vars in n_combinations:\n",
    "        new_combinations.append(pd.DataFrame(tuple_vars).transpose())\n",
    "    return new_combinations"
   ]
  },
  {
   "cell_type": "code",
   "execution_count": 69,
   "metadata": {},
   "outputs": [],
   "source": [
    "errorPolls['rightcall_int'] = (errorPolls['rightcall']).values.astype(np.int)\n",
    "rightcall = errorPolls['rightcall_int'].values"
   ]
  },
  {
   "cell_type": "code",
   "execution_count": 70,
   "metadata": {},
   "outputs": [],
   "source": [
    "dep_var = [['fourError', fourError], ['threeError', threeError], ['twoError', twoError], \n",
    "           ['oneError', oneError], ['halfError', halfError]]"
   ]
  },
  {
   "cell_type": "code",
   "execution_count": 71,
   "metadata": {},
   "outputs": [],
   "source": [
    "dep_var.append(['fiveQ_log_error', fiveQ_log_error])\n",
    "dep_var.append(['fourQ_log_error', fourQ_log_error])\n",
    "dep_var.append(['threeQ_log_error', threeQ_log_error])\n",
    "dep_var.append(['twoQ_log_error', twoQ_log_error])\n",
    "dep_var.append(['oneQ_log_error', oneQ_log_error])"
   ]
  },
  {
   "cell_type": "code",
   "execution_count": 72,
   "metadata": {},
   "outputs": [],
   "source": [
    "dep_var.append(['rightcall', list(rightcall)])"
   ]
  },
  {
   "cell_type": "code",
   "execution_count": 73,
   "metadata": {},
   "outputs": [],
   "source": [
    "#Independent variables: samplesize, std of pollster, mean error of pollster\n",
    "#TODO: Figure out why partisan keeps crashing in ind_combinations."
   ]
  },
  {
   "cell_type": "code",
   "execution_count": 78,
   "metadata": {},
   "outputs": [],
   "source": [
    "#ind_var = [sample, poll_std, poll_error, year, distance, partisan, cand1_pct, cand2_pct, stateNum,\n",
    "          #pollNum]"
   ]
  },
  {
   "cell_type": "code",
   "execution_count": 77,
   "metadata": {},
   "outputs": [],
   "source": [
    "ind_var = [sample, poll_std, poll_error, year, distance, cand1_pct, cand2_pct, stateNum, pollNum]"
   ]
  },
  {
   "cell_type": "code",
   "execution_count": 76,
   "metadata": {},
   "outputs": [
    {
     "ename": "KeyboardInterrupt",
     "evalue": "",
     "output_type": "error",
     "traceback": [
      "\u001b[1;31m---------------------------------------------------------------------------\u001b[0m",
      "\u001b[1;31mKeyboardInterrupt\u001b[0m                         Traceback (most recent call last)",
      "\u001b[1;32m<ipython-input-76-b3943f7336fe>\u001b[0m in \u001b[0;36m<module>\u001b[1;34m\u001b[0m\n\u001b[1;32m----> 1\u001b[1;33m \u001b[0mind_combinations\u001b[0m \u001b[1;33m=\u001b[0m \u001b[0mgenerate_combinations\u001b[0m\u001b[1;33m(\u001b[0m\u001b[0mind_var\u001b[0m\u001b[1;33m,\u001b[0m \u001b[1;36m4\u001b[0m\u001b[1;33m)\u001b[0m\u001b[1;33m\u001b[0m\u001b[1;33m\u001b[0m\u001b[0m\n\u001b[0m",
      "\u001b[1;32m<ipython-input-67-ce6ecef8ae99>\u001b[0m in \u001b[0;36mgenerate_combinations\u001b[1;34m(ind_vars, n)\u001b[0m\n\u001b[0;32m      9\u001b[0m         \u001b[1;31m#For input of 3, we want 2-3, not 0-1-2\u001b[0m\u001b[1;33m\u001b[0m\u001b[1;33m\u001b[0m\u001b[1;33m\u001b[0m\u001b[0m\n\u001b[0;32m     10\u001b[0m         \u001b[0mn_combinations\u001b[0m \u001b[1;33m=\u001b[0m \u001b[0mitertools\u001b[0m\u001b[1;33m.\u001b[0m\u001b[0mcombinations\u001b[0m\u001b[1;33m(\u001b[0m\u001b[0mind_vars\u001b[0m\u001b[1;33m,\u001b[0m \u001b[0mx\u001b[0m\u001b[1;33m+\u001b[0m\u001b[1;36m2\u001b[0m\u001b[1;33m)\u001b[0m\u001b[1;33m\u001b[0m\u001b[1;33m\u001b[0m\u001b[0m\n\u001b[1;32m---> 11\u001b[1;33m         \u001b[0mall_combinations\u001b[0m \u001b[1;33m=\u001b[0m \u001b[0mall_combinations\u001b[0m \u001b[1;33m+\u001b[0m \u001b[0mjoin_vars\u001b[0m\u001b[1;33m(\u001b[0m\u001b[0mn_combinations\u001b[0m\u001b[1;33m)\u001b[0m\u001b[1;33m\u001b[0m\u001b[1;33m\u001b[0m\u001b[0m\n\u001b[0m\u001b[0;32m     12\u001b[0m     \u001b[1;32mreturn\u001b[0m \u001b[0mall_combinations\u001b[0m\u001b[1;33m\u001b[0m\u001b[1;33m\u001b[0m\u001b[0m\n",
      "\u001b[1;32m<ipython-input-68-2d9f772ea1ad>\u001b[0m in \u001b[0;36mjoin_vars\u001b[1;34m(n_combinations)\u001b[0m\n\u001b[0;32m      4\u001b[0m     \u001b[0mnew_combinations\u001b[0m \u001b[1;33m=\u001b[0m \u001b[1;33m[\u001b[0m\u001b[1;33m]\u001b[0m\u001b[1;33m\u001b[0m\u001b[1;33m\u001b[0m\u001b[0m\n\u001b[0;32m      5\u001b[0m     \u001b[1;32mfor\u001b[0m \u001b[0mtuple_vars\u001b[0m \u001b[1;32min\u001b[0m \u001b[0mn_combinations\u001b[0m\u001b[1;33m:\u001b[0m\u001b[1;33m\u001b[0m\u001b[1;33m\u001b[0m\u001b[0m\n\u001b[1;32m----> 6\u001b[1;33m         \u001b[0mnew_combinations\u001b[0m\u001b[1;33m.\u001b[0m\u001b[0mappend\u001b[0m\u001b[1;33m(\u001b[0m\u001b[0mpd\u001b[0m\u001b[1;33m.\u001b[0m\u001b[0mDataFrame\u001b[0m\u001b[1;33m(\u001b[0m\u001b[0mtuple_vars\u001b[0m\u001b[1;33m)\u001b[0m\u001b[1;33m.\u001b[0m\u001b[0mtranspose\u001b[0m\u001b[1;33m(\u001b[0m\u001b[1;33m)\u001b[0m\u001b[1;33m)\u001b[0m\u001b[1;33m\u001b[0m\u001b[1;33m\u001b[0m\u001b[0m\n\u001b[0m\u001b[0;32m      7\u001b[0m     \u001b[1;32mreturn\u001b[0m \u001b[0mnew_combinations\u001b[0m\u001b[1;33m\u001b[0m\u001b[1;33m\u001b[0m\u001b[0m\n",
      "\u001b[1;32m~\\Anaconda3\\lib\\site-packages\\pandas\\core\\frame.py\u001b[0m in \u001b[0;36m__init__\u001b[1;34m(self, data, index, columns, dtype, copy)\u001b[0m\n\u001b[0;32m    460\u001b[0m                             \u001b[0mindex\u001b[0m \u001b[1;33m=\u001b[0m \u001b[0mibase\u001b[0m\u001b[1;33m.\u001b[0m\u001b[0mdefault_index\u001b[0m\u001b[1;33m(\u001b[0m\u001b[0mlen\u001b[0m\u001b[1;33m(\u001b[0m\u001b[0mdata\u001b[0m\u001b[1;33m)\u001b[0m\u001b[1;33m)\u001b[0m\u001b[1;33m\u001b[0m\u001b[1;33m\u001b[0m\u001b[0m\n\u001b[0;32m    461\u001b[0m \u001b[1;33m\u001b[0m\u001b[0m\n\u001b[1;32m--> 462\u001b[1;33m                     \u001b[0mmgr\u001b[0m \u001b[1;33m=\u001b[0m \u001b[0marrays_to_mgr\u001b[0m\u001b[1;33m(\u001b[0m\u001b[0marrays\u001b[0m\u001b[1;33m,\u001b[0m \u001b[0mcolumns\u001b[0m\u001b[1;33m,\u001b[0m \u001b[0mindex\u001b[0m\u001b[1;33m,\u001b[0m \u001b[0mcolumns\u001b[0m\u001b[1;33m,\u001b[0m \u001b[0mdtype\u001b[0m\u001b[1;33m=\u001b[0m\u001b[0mdtype\u001b[0m\u001b[1;33m)\u001b[0m\u001b[1;33m\u001b[0m\u001b[1;33m\u001b[0m\u001b[0m\n\u001b[0m\u001b[0;32m    463\u001b[0m                 \u001b[1;32melse\u001b[0m\u001b[1;33m:\u001b[0m\u001b[1;33m\u001b[0m\u001b[1;33m\u001b[0m\u001b[0m\n\u001b[0;32m    464\u001b[0m                     \u001b[0mmgr\u001b[0m \u001b[1;33m=\u001b[0m \u001b[0minit_ndarray\u001b[0m\u001b[1;33m(\u001b[0m\u001b[0mdata\u001b[0m\u001b[1;33m,\u001b[0m \u001b[0mindex\u001b[0m\u001b[1;33m,\u001b[0m \u001b[0mcolumns\u001b[0m\u001b[1;33m,\u001b[0m \u001b[0mdtype\u001b[0m\u001b[1;33m=\u001b[0m\u001b[0mdtype\u001b[0m\u001b[1;33m,\u001b[0m \u001b[0mcopy\u001b[0m\u001b[1;33m=\u001b[0m\u001b[0mcopy\u001b[0m\u001b[1;33m)\u001b[0m\u001b[1;33m\u001b[0m\u001b[1;33m\u001b[0m\u001b[0m\n",
      "\u001b[1;32m~\\Anaconda3\\lib\\site-packages\\pandas\\core\\internals\\construction.py\u001b[0m in \u001b[0;36marrays_to_mgr\u001b[1;34m(arrays, arr_names, index, columns, dtype)\u001b[0m\n\u001b[0;32m     85\u001b[0m     \u001b[0maxes\u001b[0m \u001b[1;33m=\u001b[0m \u001b[1;33m[\u001b[0m\u001b[0mensure_index\u001b[0m\u001b[1;33m(\u001b[0m\u001b[0mcolumns\u001b[0m\u001b[1;33m)\u001b[0m\u001b[1;33m,\u001b[0m \u001b[0mindex\u001b[0m\u001b[1;33m]\u001b[0m\u001b[1;33m\u001b[0m\u001b[1;33m\u001b[0m\u001b[0m\n\u001b[0;32m     86\u001b[0m \u001b[1;33m\u001b[0m\u001b[0m\n\u001b[1;32m---> 87\u001b[1;33m     \u001b[1;32mreturn\u001b[0m \u001b[0mcreate_block_manager_from_arrays\u001b[0m\u001b[1;33m(\u001b[0m\u001b[0marrays\u001b[0m\u001b[1;33m,\u001b[0m \u001b[0marr_names\u001b[0m\u001b[1;33m,\u001b[0m \u001b[0maxes\u001b[0m\u001b[1;33m)\u001b[0m\u001b[1;33m\u001b[0m\u001b[1;33m\u001b[0m\u001b[0m\n\u001b[0m\u001b[0;32m     88\u001b[0m \u001b[1;33m\u001b[0m\u001b[0m\n\u001b[0;32m     89\u001b[0m \u001b[1;33m\u001b[0m\u001b[0m\n",
      "\u001b[1;32m~\\Anaconda3\\lib\\site-packages\\pandas\\core\\internals\\managers.py\u001b[0m in \u001b[0;36mcreate_block_manager_from_arrays\u001b[1;34m(arrays, names, axes)\u001b[0m\n\u001b[0;32m   1692\u001b[0m \u001b[1;33m\u001b[0m\u001b[0m\n\u001b[0;32m   1693\u001b[0m     \u001b[1;32mtry\u001b[0m\u001b[1;33m:\u001b[0m\u001b[1;33m\u001b[0m\u001b[1;33m\u001b[0m\u001b[0m\n\u001b[1;32m-> 1694\u001b[1;33m         \u001b[0mblocks\u001b[0m \u001b[1;33m=\u001b[0m \u001b[0mform_blocks\u001b[0m\u001b[1;33m(\u001b[0m\u001b[0marrays\u001b[0m\u001b[1;33m,\u001b[0m \u001b[0mnames\u001b[0m\u001b[1;33m,\u001b[0m \u001b[0maxes\u001b[0m\u001b[1;33m)\u001b[0m\u001b[1;33m\u001b[0m\u001b[1;33m\u001b[0m\u001b[0m\n\u001b[0m\u001b[0;32m   1695\u001b[0m         \u001b[0mmgr\u001b[0m \u001b[1;33m=\u001b[0m \u001b[0mBlockManager\u001b[0m\u001b[1;33m(\u001b[0m\u001b[0mblocks\u001b[0m\u001b[1;33m,\u001b[0m \u001b[0maxes\u001b[0m\u001b[1;33m)\u001b[0m\u001b[1;33m\u001b[0m\u001b[1;33m\u001b[0m\u001b[0m\n\u001b[0;32m   1696\u001b[0m         \u001b[0mmgr\u001b[0m\u001b[1;33m.\u001b[0m\u001b[0m_consolidate_inplace\u001b[0m\u001b[1;33m(\u001b[0m\u001b[1;33m)\u001b[0m\u001b[1;33m\u001b[0m\u001b[1;33m\u001b[0m\u001b[0m\n",
      "\u001b[1;32m~\\Anaconda3\\lib\\site-packages\\pandas\\core\\internals\\managers.py\u001b[0m in \u001b[0;36mform_blocks\u001b[1;34m(arrays, names, axes)\u001b[0m\n\u001b[0;32m   1745\u001b[0m         \u001b[0mv\u001b[0m \u001b[1;33m=\u001b[0m \u001b[0marrays\u001b[0m\u001b[1;33m[\u001b[0m\u001b[0mname_idx\u001b[0m\u001b[1;33m]\u001b[0m\u001b[1;33m\u001b[0m\u001b[1;33m\u001b[0m\u001b[0m\n\u001b[0;32m   1746\u001b[0m \u001b[1;33m\u001b[0m\u001b[0m\n\u001b[1;32m-> 1747\u001b[1;33m         \u001b[0mblock_type\u001b[0m \u001b[1;33m=\u001b[0m \u001b[0mget_block_type\u001b[0m\u001b[1;33m(\u001b[0m\u001b[0mv\u001b[0m\u001b[1;33m)\u001b[0m\u001b[1;33m\u001b[0m\u001b[1;33m\u001b[0m\u001b[0m\n\u001b[0m\u001b[0;32m   1748\u001b[0m         \u001b[0mitems_dict\u001b[0m\u001b[1;33m[\u001b[0m\u001b[0mblock_type\u001b[0m\u001b[1;33m.\u001b[0m\u001b[0m__name__\u001b[0m\u001b[1;33m]\u001b[0m\u001b[1;33m.\u001b[0m\u001b[0mappend\u001b[0m\u001b[1;33m(\u001b[0m\u001b[1;33m(\u001b[0m\u001b[0mi\u001b[0m\u001b[1;33m,\u001b[0m \u001b[0mk\u001b[0m\u001b[1;33m,\u001b[0m \u001b[0mv\u001b[0m\u001b[1;33m)\u001b[0m\u001b[1;33m)\u001b[0m\u001b[1;33m\u001b[0m\u001b[1;33m\u001b[0m\u001b[0m\n\u001b[0;32m   1749\u001b[0m \u001b[1;33m\u001b[0m\u001b[0m\n",
      "\u001b[1;32m~\\Anaconda3\\lib\\site-packages\\pandas\\core\\internals\\blocks.py\u001b[0m in \u001b[0;36mget_block_type\u001b[1;34m(values, dtype)\u001b[0m\n\u001b[0;32m   3221\u001b[0m     \u001b[1;32melif\u001b[0m \u001b[0mis_interval_dtype\u001b[0m\u001b[1;33m(\u001b[0m\u001b[0mdtype\u001b[0m\u001b[1;33m)\u001b[0m \u001b[1;32mor\u001b[0m \u001b[0mis_period_dtype\u001b[0m\u001b[1;33m(\u001b[0m\u001b[0mdtype\u001b[0m\u001b[1;33m)\u001b[0m\u001b[1;33m:\u001b[0m\u001b[1;33m\u001b[0m\u001b[1;33m\u001b[0m\u001b[0m\n\u001b[0;32m   3222\u001b[0m         \u001b[0mcls\u001b[0m \u001b[1;33m=\u001b[0m \u001b[0mObjectValuesExtensionBlock\u001b[0m\u001b[1;33m\u001b[0m\u001b[1;33m\u001b[0m\u001b[0m\n\u001b[1;32m-> 3223\u001b[1;33m     \u001b[1;32melif\u001b[0m \u001b[0mis_extension_array_dtype\u001b[0m\u001b[1;33m(\u001b[0m\u001b[0mvalues\u001b[0m\u001b[1;33m)\u001b[0m\u001b[1;33m:\u001b[0m\u001b[1;33m\u001b[0m\u001b[1;33m\u001b[0m\u001b[0m\n\u001b[0m\u001b[0;32m   3224\u001b[0m         \u001b[0mcls\u001b[0m \u001b[1;33m=\u001b[0m \u001b[0mExtensionBlock\u001b[0m\u001b[1;33m\u001b[0m\u001b[1;33m\u001b[0m\u001b[0m\n\u001b[0;32m   3225\u001b[0m     \u001b[1;32melif\u001b[0m \u001b[0missubclass\u001b[0m\u001b[1;33m(\u001b[0m\u001b[0mvtype\u001b[0m\u001b[1;33m,\u001b[0m \u001b[0mnp\u001b[0m\u001b[1;33m.\u001b[0m\u001b[0mfloating\u001b[0m\u001b[1;33m)\u001b[0m\u001b[1;33m:\u001b[0m\u001b[1;33m\u001b[0m\u001b[1;33m\u001b[0m\u001b[0m\n",
      "\u001b[1;32m~\\Anaconda3\\lib\\site-packages\\pandas\\core\\dtypes\\common.py\u001b[0m in \u001b[0;36mis_extension_array_dtype\u001b[1;34m(arr_or_dtype)\u001b[0m\n\u001b[0;32m   1787\u001b[0m     \"\"\"\n\u001b[0;32m   1788\u001b[0m     \u001b[0mdtype\u001b[0m \u001b[1;33m=\u001b[0m \u001b[0mgetattr\u001b[0m\u001b[1;33m(\u001b[0m\u001b[0marr_or_dtype\u001b[0m\u001b[1;33m,\u001b[0m \u001b[1;34m\"dtype\"\u001b[0m\u001b[1;33m,\u001b[0m \u001b[0marr_or_dtype\u001b[0m\u001b[1;33m)\u001b[0m\u001b[1;33m\u001b[0m\u001b[1;33m\u001b[0m\u001b[0m\n\u001b[1;32m-> 1789\u001b[1;33m     \u001b[1;32mreturn\u001b[0m \u001b[0misinstance\u001b[0m\u001b[1;33m(\u001b[0m\u001b[0mdtype\u001b[0m\u001b[1;33m,\u001b[0m \u001b[0mExtensionDtype\u001b[0m\u001b[1;33m)\u001b[0m \u001b[1;32mor\u001b[0m \u001b[0mregistry\u001b[0m\u001b[1;33m.\u001b[0m\u001b[0mfind\u001b[0m\u001b[1;33m(\u001b[0m\u001b[0mdtype\u001b[0m\u001b[1;33m)\u001b[0m \u001b[1;32mis\u001b[0m \u001b[1;32mnot\u001b[0m \u001b[1;32mNone\u001b[0m\u001b[1;33m\u001b[0m\u001b[1;33m\u001b[0m\u001b[0m\n\u001b[0m\u001b[0;32m   1790\u001b[0m \u001b[1;33m\u001b[0m\u001b[0m\n\u001b[0;32m   1791\u001b[0m \u001b[1;33m\u001b[0m\u001b[0m\n",
      "\u001b[1;32m~\\Anaconda3\\lib\\site-packages\\pandas\\core\\dtypes\\dtypes.py\u001b[0m in \u001b[0;36mfind\u001b[1;34m(self, dtype)\u001b[0m\n\u001b[0;32m     95\u001b[0m         \u001b[1;32mif\u001b[0m \u001b[1;32mnot\u001b[0m \u001b[0misinstance\u001b[0m\u001b[1;33m(\u001b[0m\u001b[0mdtype\u001b[0m\u001b[1;33m,\u001b[0m \u001b[0mstr\u001b[0m\u001b[1;33m)\u001b[0m\u001b[1;33m:\u001b[0m\u001b[1;33m\u001b[0m\u001b[1;33m\u001b[0m\u001b[0m\n\u001b[0;32m     96\u001b[0m             \u001b[0mdtype_type\u001b[0m \u001b[1;33m=\u001b[0m \u001b[0mdtype\u001b[0m\u001b[1;33m\u001b[0m\u001b[1;33m\u001b[0m\u001b[0m\n\u001b[1;32m---> 97\u001b[1;33m             \u001b[1;32mif\u001b[0m \u001b[1;32mnot\u001b[0m \u001b[0misinstance\u001b[0m\u001b[1;33m(\u001b[0m\u001b[0mdtype\u001b[0m\u001b[1;33m,\u001b[0m \u001b[0mtype\u001b[0m\u001b[1;33m)\u001b[0m\u001b[1;33m:\u001b[0m\u001b[1;33m\u001b[0m\u001b[1;33m\u001b[0m\u001b[0m\n\u001b[0m\u001b[0;32m     98\u001b[0m                 \u001b[0mdtype_type\u001b[0m \u001b[1;33m=\u001b[0m \u001b[0mtype\u001b[0m\u001b[1;33m(\u001b[0m\u001b[0mdtype\u001b[0m\u001b[1;33m)\u001b[0m\u001b[1;33m\u001b[0m\u001b[1;33m\u001b[0m\u001b[0m\n\u001b[0;32m     99\u001b[0m             \u001b[1;32mif\u001b[0m \u001b[0missubclass\u001b[0m\u001b[1;33m(\u001b[0m\u001b[0mdtype_type\u001b[0m\u001b[1;33m,\u001b[0m \u001b[0mExtensionDtype\u001b[0m\u001b[1;33m)\u001b[0m\u001b[1;33m:\u001b[0m\u001b[1;33m\u001b[0m\u001b[1;33m\u001b[0m\u001b[0m\n",
      "\u001b[1;31mKeyboardInterrupt\u001b[0m: "
     ]
    }
   ],
   "source": [
    "ind_combinations = generate_combinations(ind_var, 4)"
   ]
  },
  {
   "cell_type": "code",
   "execution_count": null,
   "metadata": {},
   "outputs": [],
   "source": [
    "#Test all combinations of up to 4 variables"
   ]
  },
  {
   "cell_type": "code",
   "execution_count": null,
   "metadata": {
    "scrolled": true
   },
   "outputs": [],
   "source": [
    "#I'm concerned that I've started fishing.\n",
    "mnb_all_xy(ind_combinations, dep_var)"
   ]
  },
  {
   "cell_type": "code",
   "execution_count": null,
   "metadata": {},
   "outputs": [],
   "source": [
    "#Best model: Consistently selects poll distance, rightcall, others variable.\n",
    "#Still no evidence of overfitting, which is good, but I'm concerned that I'm just \n",
    "#fishing at this point.\n",
    "#Not sure if I should continue working on this or take another approach"
   ]
  },
  {
   "cell_type": "code",
   "execution_count": null,
   "metadata": {},
   "outputs": [],
   "source": [
    "#Next steps: Run mnb_all_xy a few times to find which variables are consistently valuable, \n",
    "#then move away from this and towards RF modeling."
   ]
  },
  {
   "cell_type": "code",
   "execution_count": null,
   "metadata": {},
   "outputs": [],
   "source": [
    "#Finding most consistently good variables"
   ]
  },
  {
   "cell_type": "code",
   "execution_count": null,
   "metadata": {},
   "outputs": [],
   "source": [
    "for x in range(100):\n",
    "    ind_combinations = generate_combinations(ind_var, 4)\n",
    "    mnb_all_xy(ind_combinations, dep_var)\n",
    "    print('completed test ', x)"
   ]
  },
  {
   "cell_type": "code",
   "execution_count": null,
   "metadata": {},
   "outputs": [],
   "source": [
    "#Examine the results"
   ]
  },
  {
   "cell_type": "code",
   "execution_count": 745,
   "metadata": {},
   "outputs": [
    {
     "name": "stdout",
     "output_type": "stream",
     "text": [
      "[Index(['samplesize', 'pollster_std'], dtype='object'), Index(['samplesize', 'pollster_std'], dtype='object'), Index(['samplesize', 'pollster_error'], dtype='object'), Index(['samplesize', 'polldistance'], dtype='object'), Index(['pollster_std', 'polldistance'], dtype='object'), Index(['pollster_error', 'polldistance'], dtype='object'), Index(['year', 'polldistance'], dtype='object'), Index(['samplesize', 'pollster_std'], dtype='object'), Index(['samplesize', 'pollster_std'], dtype='object'), Index(['pollster_std', 'year'], dtype='object'), Index(['pollster_std', 'polldistance'], dtype='object'), Index(['year', 'polldistance'], dtype='object'), Index(['year', 'polldistance', 'cand1_pct'], dtype='object'), Index(['year', 'polldistance', 'cand2_pct'], dtype='object'), Index(['samplesize', 'pollster_std'], dtype='object'), Index(['samplesize', 'pollster_std'], dtype='object'), Index(['samplesize', 'pollster_error'], dtype='object'), Index(['pollster_std', 'pollster_error'], dtype='object'), Index(['pollster_std', 'polldistance'], dtype='object'), Index(['year', 'polldistance'], dtype='object'), Index(['samplesize', 'pollster_std'], dtype='object'), Index(['samplesize', 'pollster_std'], dtype='object'), Index(['samplesize', 'pollster_error'], dtype='object'), Index(['samplesize', 'stateNum'], dtype='object'), Index(['pollster_std', 'polldistance'], dtype='object'), Index(['year', 'polldistance'], dtype='object'), Index(['samplesize', 'year', 'polldistance'], dtype='object'), Index(['pollster_std', 'year', 'polldistance'], dtype='object'), Index(['samplesize', 'pollster_std'], dtype='object'), Index(['samplesize', 'pollster_std'], dtype='object'), Index(['samplesize', 'pollster_error'], dtype='object'), Index(['pollster_std', 'pollster_error'], dtype='object'), Index(['pollster_std', 'polldistance'], dtype='object'), Index(['pollster_error', 'polldistance'], dtype='object'), Index(['year', 'polldistance'], dtype='object'), Index(['pollster_std', 'year', 'polldistance', 'stateNum'], dtype='object'), Index(['year', 'polldistance', 'cand2_pct', 'stateNum'], dtype='object'), Index(['samplesize', 'pollster_std'], dtype='object'), Index(['samplesize', 'pollster_std'], dtype='object'), Index(['samplesize', 'pollster_error'], dtype='object'), Index(['samplesize', 'stateNum'], dtype='object'), Index(['pollster_std', 'pollster_error'], dtype='object'), Index(['pollster_std', 'polldistance'], dtype='object'), Index(['pollster_error', 'polldistance'], dtype='object'), Index(['year', 'polldistance'], dtype='object'), Index(['pollster_error', 'year', 'polldistance'], dtype='object'), Index(['year', 'polldistance', 'cand1_pct'], dtype='object'), Index(['year', 'polldistance', 'stateNum'], dtype='object'), Index(['samplesize', 'pollster_std', 'year', 'polldistance'], dtype='object'), Index(['samplesize', 'pollster_std'], dtype='object'), Index(['samplesize', 'pollster_std'], dtype='object'), Index(['samplesize', 'pollster_error'], dtype='object'), Index(['pollster_std', 'pollster_error'], dtype='object'), Index(['pollster_std', 'polldistance'], dtype='object'), Index(['year', 'polldistance'], dtype='object'), Index(['pollster_error', 'year', 'polldistance'], dtype='object'), Index(['year', 'polldistance', 'cand2_pct'], dtype='object'), Index(['year', 'polldistance', 'pollNum'], dtype='object'), Index(['samplesize', 'pollster_error', 'year', 'polldistance'], dtype='object'), Index(['pollster_error', 'year', 'polldistance', 'cand1_pct'], dtype='object'), Index(['samplesize', 'pollster_std'], dtype='object'), Index(['samplesize', 'pollster_std'], dtype='object'), Index(['pollster_std', 'year'], dtype='object'), Index(['pollster_std', 'polldistance'], dtype='object'), Index(['year', 'polldistance'], dtype='object'), Index(['year', 'polldistance', 'cand1_pct'], dtype='object'), Index(['pollster_std', 'year', 'polldistance', 'cand1_pct'], dtype='object'), Index(['samplesize', 'pollster_std'], dtype='object'), Index(['samplesize', 'pollster_std'], dtype='object'), Index(['pollster_std', 'year'], dtype='object'), Index(['pollster_std', 'polldistance'], dtype='object'), Index(['pollster_error', 'polldistance'], dtype='object'), Index(['year', 'polldistance'], dtype='object'), Index(['samplesize', 'pollster_std'], dtype='object'), Index(['samplesize', 'pollster_std'], dtype='object'), Index(['samplesize', 'pollster_error'], dtype='object'), Index(['pollster_std', 'polldistance'], dtype='object'), Index(['year', 'polldistance'], dtype='object'), Index(['year', 'polldistance', 'stateNum'], dtype='object'), Index(['year', 'polldistance', 'stateNum', 'pollNum'], dtype='object'), Index(['samplesize', 'pollster_std'], dtype='object'), Index(['samplesize', 'pollster_std'], dtype='object'), Index(['pollster_std', 'year'], dtype='object'), Index(['pollster_std', 'polldistance'], dtype='object'), Index(['year', 'polldistance'], dtype='object'), Index(['pollster_error', 'year', 'polldistance'], dtype='object'), Index(['samplesize', 'pollster_std'], dtype='object'), Index(['samplesize', 'pollster_std'], dtype='object'), Index(['samplesize', 'pollster_error'], dtype='object'), Index(['pollster_std', 'polldistance'], dtype='object'), Index(['pollster_error', 'polldistance'], dtype='object'), Index(['year', 'polldistance'], dtype='object'), Index(['year', 'polldistance', 'cand1_pct'], dtype='object'), Index(['year', 'polldistance', 'stateNum'], dtype='object'), Index(['pollster_error', 'year', 'polldistance', 'cand2_pct'], dtype='object'), Index(['samplesize', 'pollster_std'], dtype='object'), Index(['samplesize', 'pollster_std'], dtype='object'), Index(['samplesize', 'pollster_error'], dtype='object'), Index(['pollster_std', 'pollster_error'], dtype='object'), Index(['pollster_std', 'polldistance'], dtype='object'), Index(['year', 'polldistance'], dtype='object'), Index(['pollster_std', 'year', 'polldistance'], dtype='object'), Index(['pollster_error', 'year', 'polldistance'], dtype='object'), Index(['pollster_std', 'year', 'polldistance', 'cand1_pct'], dtype='object'), Index(['samplesize', 'pollster_std'], dtype='object'), Index(['samplesize', 'pollster_std'], dtype='object'), Index(['pollster_std', 'polldistance'], dtype='object'), Index(['year', 'polldistance'], dtype='object'), Index(['pollster_std', 'year', 'polldistance'], dtype='object'), Index(['year', 'polldistance', 'stateNum'], dtype='object'), Index(['pollster_std', 'year', 'polldistance', 'cand2_pct'], dtype='object'), Index(['samplesize', 'pollster_std'], dtype='object'), Index(['samplesize', 'pollster_std'], dtype='object'), Index(['samplesize', 'pollster_error'], dtype='object'), Index(['samplesize', 'pollNum'], dtype='object'), Index(['pollster_std', 'pollster_error'], dtype='object'), Index(['pollster_std', 'polldistance'], dtype='object'), Index(['pollster_error', 'polldistance'], dtype='object'), Index(['year', 'polldistance'], dtype='object'), Index(['pollster_std', 'year', 'polldistance'], dtype='object'), Index(['year', 'polldistance', 'stateNum'], dtype='object'), Index(['pollster_std', 'year', 'polldistance', 'stateNum'], dtype='object'), Index(['samplesize', 'pollster_std'], dtype='object'), Index(['samplesize', 'pollster_std'], dtype='object'), Index(['samplesize', 'pollster_error'], dtype='object'), Index(['pollster_std', 'polldistance'], dtype='object'), Index(['year', 'polldistance'], dtype='object'), Index(['pollster_std', 'year', 'polldistance'], dtype='object'), Index(['samplesize', 'pollster_std'], dtype='object'), Index(['samplesize', 'pollster_std'], dtype='object'), Index(['samplesize', 'pollster_error'], dtype='object'), Index(['pollster_std', 'pollster_error'], dtype='object'), Index(['pollster_std', 'polldistance'], dtype='object'), Index(['pollster_error', 'polldistance'], dtype='object'), Index(['pollster_std', 'year', 'polldistance'], dtype='object'), Index(['pollster_error', 'year', 'polldistance'], dtype='object'), Index(['year', 'polldistance', 'cand2_pct'], dtype='object'), Index(['samplesize', 'pollster_std'], dtype='object'), Index(['samplesize', 'pollster_std'], dtype='object'), Index(['samplesize', 'pollster_error'], dtype='object'), Index(['pollster_std', 'year'], dtype='object'), Index(['pollster_std', 'polldistance'], dtype='object'), Index(['pollster_error', 'polldistance'], dtype='object'), Index(['year', 'polldistance'], dtype='object'), Index(['pollster_std', 'year', 'polldistance'], dtype='object'), Index(['samplesize', 'pollster_std'], dtype='object'), Index(['samplesize', 'pollster_std'], dtype='object'), Index(['samplesize', 'pollster_error'], dtype='object'), Index(['samplesize', 'polldistance'], dtype='object'), Index(['pollster_std', 'polldistance'], dtype='object'), Index(['pollster_error', 'polldistance'], dtype='object'), Index(['year', 'polldistance'], dtype='object'), Index(['pollster_std', 'year', 'polldistance'], dtype='object'), Index(['year', 'polldistance', 'cand2_pct'], dtype='object'), Index(['year', 'polldistance', 'pollNum'], dtype='object'), Index(['samplesize', 'pollster_std'], dtype='object'), Index(['samplesize', 'pollster_std'], dtype='object'), Index(['samplesize', 'pollster_error'], dtype='object'), Index(['pollster_std', 'polldistance'], dtype='object'), Index(['year', 'polldistance'], dtype='object'), Index(['pollster_std', 'year', 'polldistance'], dtype='object'), Index(['pollster_error', 'year', 'polldistance'], dtype='object'), Index(['year', 'polldistance', 'cand1_pct'], dtype='object'), Index(['samplesize', 'pollster_std'], dtype='object'), Index(['samplesize', 'pollster_std'], dtype='object'), Index(['samplesize', 'pollster_error'], dtype='object'), Index(['pollster_std', 'polldistance'], dtype='object'), Index(['year', 'polldistance'], dtype='object'), Index(['year', 'polldistance', 'cand1_pct'], dtype='object'), Index(['year', 'polldistance', 'stateNum'], dtype='object'), Index(['year', 'polldistance', 'pollNum'], dtype='object'), Index(['pollster_error', 'year', 'polldistance', 'stateNum'], dtype='object'), Index(['year', 'polldistance', 'cand1_pct', 'cand2_pct'], dtype='object'), Index(['year', 'polldistance', 'stateNum', 'pollNum'], dtype='object'), Index(['samplesize', 'pollster_std'], dtype='object'), Index(['samplesize', 'pollster_std'], dtype='object'), Index(['samplesize', 'pollster_error'], dtype='object'), Index(['samplesize', 'cand2_pct'], dtype='object'), Index(['pollster_std', 'polldistance'], dtype='object'), Index(['year', 'polldistance'], dtype='object'), Index(['pollster_std', 'year', 'polldistance'], dtype='object'), Index(['year', 'polldistance', 'cand1_pct'], dtype='object'), Index(['samplesize', 'pollster_std'], dtype='object'), Index(['samplesize', 'pollster_std'], dtype='object'), Index(['samplesize', 'pollster_error'], dtype='object'), Index(['pollster_std', 'polldistance'], dtype='object'), Index(['year', 'polldistance'], dtype='object'), Index(['samplesize', 'year', 'polldistance'], dtype='object'), Index(['pollster_error', 'year', 'polldistance'], dtype='object'), Index(['samplesize', 'pollster_std'], dtype='object'), Index(['samplesize', 'pollster_std'], dtype='object'), Index(['pollster_std', 'polldistance'], dtype='object'), Index(['year', 'polldistance'], dtype='object'), Index(['pollster_std', 'year', 'polldistance'], dtype='object'), Index(['year', 'polldistance', 'pollNum'], dtype='object'), Index(['pollster_std', 'year', 'polldistance', 'cand2_pct'], dtype='object'), Index(['pollster_std', 'year', 'polldistance', 'pollNum'], dtype='object'), Index(['samplesize', 'pollster_std'], dtype='object'), Index(['samplesize', 'pollster_std'], dtype='object'), Index(['samplesize', 'pollster_error'], dtype='object'), Index(['pollster_std', 'year'], dtype='object'), Index(['pollster_std', 'polldistance'], dtype='object'), Index(['pollster_error', 'polldistance'], dtype='object'), Index(['year', 'polldistance'], dtype='object'), Index(['pollster_std', 'year', 'polldistance'], dtype='object'), Index(['year', 'polldistance', 'cand2_pct'], dtype='object'), Index(['pollster_std', 'year', 'polldistance', 'cand1_pct'], dtype='object'), Index(['samplesize', 'pollster_std'], dtype='object'), Index(['samplesize', 'pollster_std'], dtype='object'), Index(['pollster_std', 'polldistance'], dtype='object'), Index(['year', 'polldistance'], dtype='object'), Index(['pollster_error', 'year', 'polldistance'], dtype='object'), Index(['samplesize', 'pollster_std'], dtype='object'), Index(['samplesize', 'pollster_std'], dtype='object'), Index(['samplesize', 'pollster_error'], dtype='object'), Index(['pollster_std', 'pollster_error'], dtype='object'), Index(['pollster_std', 'year'], dtype='object'), Index(['pollster_std', 'polldistance'], dtype='object'), Index(['pollster_error', 'polldistance'], dtype='object'), Index(['year', 'polldistance'], dtype='object'), Index(['pollster_error', 'year', 'polldistance'], dtype='object'), Index(['pollster_std', 'pollster_error', 'year', 'polldistance'], dtype='object'), Index(['pollster_std', 'year', 'polldistance', 'cand2_pct'], dtype='object'), Index(['samplesize', 'pollster_std'], dtype='object'), Index(['samplesize', 'pollster_std'], dtype='object'), Index(['pollster_std', 'polldistance'], dtype='object'), Index(['pollster_error', 'polldistance'], dtype='object'), Index(['year', 'polldistance'], dtype='object'), Index(['pollster_std', 'year', 'polldistance'], dtype='object'), Index(['year', 'polldistance', 'cand1_pct'], dtype='object'), Index(['year', 'polldistance', 'cand2_pct'], dtype='object'), Index(['pollster_std', 'year', 'polldistance', 'cand1_pct'], dtype='object'), Index(['pollster_std', 'year', 'polldistance', 'pollNum'], dtype='object'), Index(['samplesize', 'pollster_std'], dtype='object'), Index(['samplesize', 'pollster_std'], dtype='object'), Index(['samplesize', 'pollster_error'], dtype='object'), Index(['pollster_std', 'polldistance'], dtype='object'), Index(['year', 'polldistance'], dtype='object'), Index(['year', 'polldistance', 'stateNum'], dtype='object'), Index(['pollster_std', 'year', 'polldistance', 'stateNum'], dtype='object'), Index(['pollster_error', 'year', 'polldistance', 'cand2_pct'], dtype='object'), Index(['samplesize', 'pollster_std'], dtype='object'), Index(['samplesize', 'pollster_std'], dtype='object'), Index(['samplesize', 'pollster_error'], dtype='object'), Index(['pollster_std', 'polldistance'], dtype='object'), Index(['pollster_error', 'polldistance'], dtype='object'), Index(['year', 'polldistance'], dtype='object'), Index(['pollster_std', 'year', 'polldistance', 'cand1_pct'], dtype='object'), Index(['samplesize', 'pollster_std'], dtype='object'), Index(['samplesize', 'pollster_std'], dtype='object'), Index(['pollster_std', 'pollster_error'], dtype='object'), Index(['pollster_std', 'year'], dtype='object'), Index(['pollster_std', 'polldistance'], dtype='object'), Index(['year', 'polldistance'], dtype='object'), Index(['year', 'polldistance', 'cand1_pct', 'cand2_pct'], dtype='object'), Index(['samplesize', 'pollster_std'], dtype='object'), Index(['samplesize', 'pollster_std'], dtype='object'), Index(['pollster_std', 'polldistance'], dtype='object'), Index(['pollster_error', 'polldistance'], dtype='object'), Index(['year', 'polldistance'], dtype='object'), Index(['pollster_std', 'year', 'polldistance'], dtype='object'), Index(['year', 'polldistance', 'stateNum'], dtype='object'), Index(['polldistance', 'cand1_pct', 'cand2_pct'], dtype='object'), Index(['year', 'polldistance', 'stateNum', 'pollNum'], dtype='object'), Index(['samplesize', 'pollster_std'], dtype='object'), Index(['samplesize', 'pollster_std'], dtype='object'), Index(['pollster_std', 'polldistance'], dtype='object'), Index(['pollster_error', 'polldistance'], dtype='object'), Index(['year', 'polldistance'], dtype='object'), Index(['pollster_std', 'pollster_error', 'year', 'polldistance'], dtype='object'), Index(['pollster_std', 'year', 'polldistance', 'cand2_pct'], dtype='object'), Index(['pollster_error', 'year', 'polldistance', 'cand2_pct'], dtype='object'), Index(['year', 'polldistance', 'cand2_pct', 'stateNum'], dtype='object'), Index(['samplesize', 'pollster_std'], dtype='object'), Index(['samplesize', 'pollster_std'], dtype='object'), Index(['pollster_std', 'polldistance'], dtype='object'), Index(['year', 'polldistance'], dtype='object'), Index(['samplesize', 'pollster_std'], dtype='object'), Index(['samplesize', 'pollster_std'], dtype='object'), Index(['samplesize', 'pollster_error'], dtype='object'), Index(['pollster_std', 'polldistance'], dtype='object'), Index(['year', 'polldistance'], dtype='object'), Index(['pollster_std', 'year', 'polldistance', 'cand1_pct'], dtype='object'), Index(['samplesize', 'pollster_std'], dtype='object'), Index(['samplesize', 'pollster_std'], dtype='object'), Index(['pollster_std', 'pollster_error'], dtype='object'), Index(['pollster_std', 'year'], dtype='object'), Index(['pollster_std', 'polldistance'], dtype='object'), Index(['pollster_error', 'polldistance'], dtype='object'), Index(['year', 'polldistance'], dtype='object'), Index(['pollster_std', 'year', 'polldistance'], dtype='object'), Index(['pollster_std', 'year', 'polldistance', 'pollNum'], dtype='object'), Index(['pollster_error', 'year', 'polldistance', 'stateNum'], dtype='object'), Index(['samplesize', 'pollster_std'], dtype='object'), Index(['samplesize', 'pollster_std'], dtype='object'), Index(['samplesize', 'pollster_error'], dtype='object'), Index(['samplesize', 'cand2_pct'], dtype='object'), Index(['pollster_std', 'year'], dtype='object'), Index(['pollster_std', 'polldistance'], dtype='object'), Index(['pollster_error', 'polldistance'], dtype='object'), Index(['year', 'polldistance'], dtype='object'), Index(['year', 'polldistance', 'cand1_pct', 'stateNum'], dtype='object'), Index(['samplesize', 'pollster_std'], dtype='object'), Index(['samplesize', 'pollster_std'], dtype='object'), Index(['samplesize', 'pollster_error'], dtype='object'), Index(['pollster_std', 'polldistance'], dtype='object'), Index(['pollster_error', 'polldistance'], dtype='object'), Index(['year', 'polldistance'], dtype='object'), Index(['year', 'polldistance', 'cand1_pct', 'stateNum'], dtype='object'), Index(['year', 'polldistance', 'stateNum', 'pollNum'], dtype='object'), Index(['samplesize', 'pollster_std'], dtype='object'), Index(['samplesize', 'pollster_std'], dtype='object'), Index(['pollster_std', 'polldistance'], dtype='object'), Index(['year', 'polldistance'], dtype='object'), Index(['samplesize', 'year', 'polldistance'], dtype='object'), Index(['pollster_std', 'year', 'polldistance'], dtype='object'), Index(['pollster_error', 'year', 'polldistance'], dtype='object'), Index(['samplesize', 'year', 'polldistance', 'cand1_pct'], dtype='object'), Index(['samplesize', 'pollster_std'], dtype='object'), Index(['samplesize', 'pollster_std'], dtype='object'), Index(['samplesize', 'year'], dtype='object'), Index(['pollster_std', 'year'], dtype='object'), Index(['pollster_std', 'polldistance'], dtype='object'), Index(['pollster_error', 'polldistance'], dtype='object'), Index(['year', 'polldistance'], dtype='object'), Index(['pollster_std', 'year', 'polldistance'], dtype='object'), Index(['pollster_error', 'year', 'polldistance'], dtype='object'), Index(['year', 'polldistance', 'pollNum'], dtype='object'), Index(['samplesize', 'pollster_std'], dtype='object'), Index(['samplesize', 'pollster_std'], dtype='object'), Index(['pollster_std', 'pollster_error'], dtype='object'), Index(['pollster_std', 'polldistance'], dtype='object'), Index(['pollster_error', 'polldistance'], dtype='object'), Index(['year', 'polldistance'], dtype='object'), Index(['year', 'polldistance', 'cand2_pct'], dtype='object'), Index(['pollster_error', 'year', 'polldistance', 'pollNum'], dtype='object'), Index(['samplesize', 'pollster_std'], dtype='object'), Index(['samplesize', 'pollster_std'], dtype='object'), Index(['samplesize', 'pollster_error'], dtype='object'), Index(['pollster_std', 'polldistance'], dtype='object'), Index(['pollster_error', 'polldistance'], dtype='object'), Index(['year', 'polldistance'], dtype='object'), Index(['pollster_std', 'year', 'polldistance'], dtype='object'), Index(['pollster_std', 'pollster_error', 'year', 'polldistance'], dtype='object'), Index(['samplesize', 'pollster_std'], dtype='object'), Index(['samplesize', 'pollster_std'], dtype='object'), Index(['pollster_std', 'polldistance'], dtype='object'), Index(['pollster_error', 'polldistance'], dtype='object'), Index(['year', 'polldistance'], dtype='object'), Index(['samplesize', 'year', 'polldistance'], dtype='object'), Index(['pollster_std', 'year', 'polldistance'], dtype='object'), Index(['pollster_error', 'year', 'polldistance', 'pollNum'], dtype='object'), Index(['year', 'polldistance', 'cand2_pct', 'pollNum'], dtype='object'), Index(['samplesize', 'pollster_std'], dtype='object'), Index(['samplesize', 'pollster_std'], dtype='object'), Index(['samplesize', 'pollster_error'], dtype='object'), Index(['pollster_std', 'pollster_error'], dtype='object'), Index(['pollster_std', 'polldistance'], dtype='object'), Index(['pollster_error', 'polldistance'], dtype='object'), Index(['year', 'polldistance'], dtype='object'), Index(['pollster_error', 'year', 'polldistance'], dtype='object'), Index(['year', 'polldistance', 'cand2_pct'], dtype='object'), Index(['year', 'polldistance', 'stateNum'], dtype='object'), Index(['year', 'polldistance', 'pollNum'], dtype='object'), Index(['year', 'polldistance', 'cand1_pct', 'cand2_pct'], dtype='object'), Index(['year', 'polldistance', 'cand1_pct', 'pollNum'], dtype='object'), Index(['samplesize', 'pollster_std'], dtype='object'), Index(['samplesize', 'pollster_std'], dtype='object'), Index(['samplesize', 'pollster_error'], dtype='object'), Index(['pollster_std', 'year'], dtype='object'), Index(['pollster_std', 'polldistance'], dtype='object'), Index(['pollster_error', 'polldistance'], dtype='object'), Index(['year', 'polldistance'], dtype='object'), Index(['samplesize', 'pollster_std'], dtype='object'), Index(['samplesize', 'pollster_std'], dtype='object'), Index(['samplesize', 'pollster_error'], dtype='object'), Index(['pollster_std', 'pollster_error'], dtype='object'), Index(['pollster_std', 'polldistance'], dtype='object'), Index(['pollster_error', 'polldistance'], dtype='object'), Index(['year', 'polldistance'], dtype='object'), Index(['samplesize', 'year', 'polldistance'], dtype='object'), Index(['year', 'polldistance', 'cand1_pct'], dtype='object'), Index(['samplesize', 'pollster_std'], dtype='object'), Index(['samplesize', 'pollster_std'], dtype='object'), Index(['pollster_std', 'polldistance'], dtype='object'), Index(['year', 'polldistance'], dtype='object'), Index(['year', 'polldistance', 'cand2_pct'], dtype='object'), Index(['samplesize', 'pollster_std'], dtype='object'), Index(['samplesize', 'pollster_std'], dtype='object'), Index(['samplesize', 'pollster_error'], dtype='object'), Index(['pollster_std', 'polldistance'], dtype='object'), Index(['year', 'polldistance'], dtype='object'), Index(['pollster_std', 'year', 'polldistance'], dtype='object'), Index(['year', 'polldistance', 'stateNum'], dtype='object'), Index(['pollster_std', 'year', 'polldistance', 'cand1_pct'], dtype='object'), Index(['samplesize', 'pollster_std'], dtype='object'), Index(['samplesize', 'pollster_std'], dtype='object'), Index(['samplesize', 'stateNum'], dtype='object'), Index(['samplesize', 'pollNum'], dtype='object'), Index(['pollster_std', 'pollster_error'], dtype='object'), Index(['pollster_std', 'polldistance'], dtype='object'), Index(['year', 'polldistance'], dtype='object'), Index(['samplesize', 'pollster_std'], dtype='object'), Index(['samplesize', 'pollster_std'], dtype='object'), Index(['samplesize', 'pollster_error'], dtype='object'), Index(['samplesize', 'stateNum'], dtype='object'), Index(['pollster_std', 'pollster_error'], dtype='object'), Index(['pollster_std', 'polldistance'], dtype='object'), Index(['pollster_error', 'polldistance'], dtype='object'), Index(['year', 'polldistance'], dtype='object'), Index(['pollster_std', 'year', 'polldistance'], dtype='object'), Index(['year', 'polldistance', 'stateNum'], dtype='object'), Index(['year', 'polldistance', 'cand2_pct', 'stateNum'], dtype='object'), Index(['samplesize', 'pollster_std'], dtype='object'), Index(['samplesize', 'pollster_std'], dtype='object'), Index(['samplesize', 'pollster_error'], dtype='object'), Index(['pollster_std', 'polldistance'], dtype='object'), Index(['pollster_error', 'polldistance'], dtype='object'), Index(['year', 'polldistance'], dtype='object'), Index(['pollster_error', 'year', 'polldistance'], dtype='object'), Index(['year', 'polldistance', 'cand2_pct'], dtype='object'), Index(['pollster_error', 'year', 'polldistance', 'stateNum'], dtype='object'), Index(['samplesize', 'pollster_std'], dtype='object'), Index(['samplesize', 'pollster_std'], dtype='object'), Index(['samplesize', 'pollster_error'], dtype='object'), Index(['pollster_std', 'pollster_error'], dtype='object'), Index(['pollster_std', 'polldistance'], dtype='object'), Index(['pollster_error', 'polldistance'], dtype='object'), Index(['year', 'polldistance'], dtype='object'), Index(['pollster_error', 'year', 'polldistance'], dtype='object'), Index(['year', 'polldistance', 'cand1_pct'], dtype='object'), Index(['year', 'polldistance', 'stateNum'], dtype='object'), Index(['samplesize', 'pollster_std'], dtype='object'), Index(['samplesize', 'pollster_std'], dtype='object'), Index(['samplesize', 'pollster_error'], dtype='object'), Index(['pollster_std', 'polldistance'], dtype='object'), Index(['pollster_error', 'polldistance'], dtype='object'), Index(['year', 'polldistance'], dtype='object'), Index(['pollster_std', 'year', 'polldistance'], dtype='object'), Index(['pollster_error', 'year', 'polldistance'], dtype='object'), Index(['year', 'polldistance', 'pollNum'], dtype='object'), Index(['samplesize', 'pollster_std'], dtype='object'), Index(['samplesize', 'pollster_std'], dtype='object'), Index(['pollster_std', 'polldistance'], dtype='object'), Index(['pollster_error', 'polldistance'], dtype='object'), Index(['year', 'polldistance'], dtype='object'), Index(['pollster_std', 'year', 'polldistance'], dtype='object'), Index(['pollster_error', 'year', 'polldistance'], dtype='object'), Index(['polldistance', 'cand1_pct', 'cand2_pct'], dtype='object'), Index(['pollster_std', 'year', 'polldistance', 'stateNum'], dtype='object'), Index(['samplesize', 'pollster_std'], dtype='object'), Index(['samplesize', 'pollster_std'], dtype='object'), Index(['samplesize', 'pollster_error'], dtype='object'), Index(['samplesize', 'cand2_pct'], dtype='object'), Index(['pollster_std', 'pollster_error'], dtype='object'), Index(['pollster_std', 'polldistance'], dtype='object'), Index(['pollster_error', 'polldistance'], dtype='object'), Index(['year', 'polldistance'], dtype='object'), Index(['year', 'polldistance', 'cand2_pct'], dtype='object'), Index(['year', 'polldistance', 'stateNum'], dtype='object'), Index(['pollster_std', 'year', 'polldistance', 'cand2_pct'], dtype='object'), Index(['samplesize', 'pollster_std'], dtype='object'), Index(['samplesize', 'pollster_std'], dtype='object'), Index(['samplesize', 'polldistance'], dtype='object'), Index(['pollster_std', 'pollster_error'], dtype='object'), Index(['pollster_std', 'year'], dtype='object'), Index(['pollster_std', 'polldistance'], dtype='object'), Index(['pollster_error', 'polldistance'], dtype='object'), Index(['year', 'polldistance'], dtype='object'), Index(['samplesize', 'year', 'polldistance'], dtype='object'), Index(['pollster_std', 'year', 'polldistance'], dtype='object'), Index(['year', 'polldistance', 'stateNum'], dtype='object'), Index(['samplesize', 'pollster_std'], dtype='object'), Index(['samplesize', 'pollster_std'], dtype='object'), Index(['samplesize', 'pollNum'], dtype='object'), Index(['pollster_std', 'year'], dtype='object'), Index(['pollster_std', 'polldistance'], dtype='object'), Index(['year', 'polldistance'], dtype='object'), Index(['samplesize', 'year', 'polldistance'], dtype='object'), Index(['samplesize', 'pollster_std'], dtype='object'), Index(['samplesize', 'pollster_std'], dtype='object'), Index(['pollster_std', 'polldistance'], dtype='object'), Index(['year', 'polldistance'], dtype='object'), Index(['pollster_error', 'year', 'polldistance'], dtype='object'), Index(['pollster_error', 'year', 'polldistance', 'stateNum'], dtype='object'), Index(['samplesize', 'pollster_std'], dtype='object'), Index(['samplesize', 'pollster_std'], dtype='object'), Index(['pollster_std', 'polldistance'], dtype='object'), Index(['pollster_error', 'polldistance'], dtype='object'), Index(['year', 'polldistance'], dtype='object'), Index(['pollster_std', 'year', 'polldistance'], dtype='object'), Index(['pollster_std', 'year', 'polldistance', 'pollNum'], dtype='object'), Index(['samplesize', 'pollster_std'], dtype='object'), Index(['samplesize', 'pollster_std'], dtype='object'), Index(['pollster_std', 'polldistance'], dtype='object'), Index(['pollster_error', 'polldistance'], dtype='object'), Index(['year', 'polldistance'], dtype='object'), Index(['pollster_std', 'year', 'polldistance'], dtype='object'), Index(['year', 'polldistance', 'pollNum'], dtype='object'), Index(['pollster_std', 'pollster_error', 'year', 'polldistance'], dtype='object'), Index(['year', 'polldistance', 'cand1_pct', 'pollNum'], dtype='object'), Index(['samplesize', 'pollster_std'], dtype='object'), Index(['samplesize', 'pollster_std'], dtype='object'), Index(['samplesize', 'pollster_error'], dtype='object'), Index(['pollster_std', 'year'], dtype='object'), Index(['pollster_std', 'polldistance'], dtype='object'), Index(['pollster_error', 'polldistance'], dtype='object'), Index(['year', 'polldistance'], dtype='object'), Index(['pollster_std', 'year', 'polldistance'], dtype='object'), Index(['samplesize', 'pollster_std'], dtype='object'), Index(['samplesize', 'pollster_std'], dtype='object'), Index(['pollster_std', 'pollster_error'], dtype='object'), Index(['pollster_std', 'polldistance'], dtype='object'), Index(['year', 'polldistance'], dtype='object'), Index(['pollster_std', 'year', 'polldistance'], dtype='object'), Index(['year', 'polldistance', 'cand2_pct'], dtype='object'), Index(['pollster_std', 'year', 'polldistance', 'stateNum'], dtype='object'), Index(['pollster_std', 'year', 'polldistance', 'pollNum'], dtype='object'), Index(['samplesize', 'pollster_std'], dtype='object'), Index(['samplesize', 'pollster_std'], dtype='object'), Index(['samplesize', 'pollster_error'], dtype='object'), Index(['pollster_std', 'polldistance'], dtype='object'), Index(['pollster_error', 'polldistance'], dtype='object'), Index(['year', 'polldistance'], dtype='object'), Index(['pollster_std', 'year', 'polldistance'], dtype='object'), Index(['pollster_std', 'pollster_error', 'year', 'polldistance'], dtype='object'), Index(['year', 'polldistance', 'stateNum', 'pollNum'], dtype='object'), Index(['samplesize', 'pollster_std'], dtype='object'), Index(['samplesize', 'pollster_std'], dtype='object'), Index(['samplesize', 'pollster_error'], dtype='object'), Index(['pollster_std', 'polldistance'], dtype='object'), Index(['year', 'polldistance'], dtype='object'), Index(['pollster_error', 'year', 'polldistance'], dtype='object'), Index(['samplesize', 'pollster_std'], dtype='object'), Index(['samplesize', 'pollster_std'], dtype='object'), Index(['pollster_std', 'pollster_error'], dtype='object'), Index(['pollster_std', 'year'], dtype='object'), Index(['pollster_std', 'polldistance'], dtype='object'), Index(['year', 'polldistance'], dtype='object'), Index(['pollster_std', 'year', 'polldistance'], dtype='object'), Index(['pollster_error', 'year', 'polldistance'], dtype='object'), Index(['year', 'polldistance', 'cand1_pct', 'cand2_pct'], dtype='object'), Index(['samplesize', 'pollster_std'], dtype='object'), Index(['samplesize', 'pollster_std'], dtype='object'), Index(['samplesize', 'pollster_error'], dtype='object'), Index(['pollster_std', 'pollster_error'], dtype='object'), Index(['pollster_std', 'polldistance'], dtype='object'), Index(['year', 'polldistance'], dtype='object'), Index(['pollster_std', 'year', 'polldistance'], dtype='object'), Index(['year', 'polldistance', 'cand2_pct'], dtype='object'), Index(['pollster_std', 'year', 'polldistance', 'cand1_pct'], dtype='object'), Index(['samplesize', 'pollster_std'], dtype='object'), Index(['samplesize', 'pollster_std'], dtype='object'), Index(['samplesize', 'pollster_error'], dtype='object'), Index(['samplesize', 'cand1_pct'], dtype='object'), Index(['samplesize', 'cand2_pct'], dtype='object'), Index(['pollster_std', 'year'], dtype='object'), Index(['pollster_std', 'polldistance'], dtype='object'), Index(['pollster_error', 'polldistance'], dtype='object'), Index(['year', 'polldistance'], dtype='object'), Index(['year', 'polldistance', 'stateNum'], dtype='object'), Index(['year', 'polldistance', 'cand1_pct', 'cand2_pct'], dtype='object'), Index(['samplesize', 'pollster_std'], dtype='object'), Index(['samplesize', 'pollster_std'], dtype='object'), Index(['samplesize', 'pollster_error'], dtype='object'), Index(['samplesize', 'polldistance'], dtype='object'), Index(['samplesize', 'cand2_pct'], dtype='object'), Index(['samplesize', 'pollNum'], dtype='object'), Index(['pollster_std', 'year'], dtype='object'), Index(['pollster_std', 'polldistance'], dtype='object'), Index(['pollster_error', 'polldistance'], dtype='object'), Index(['year', 'polldistance'], dtype='object'), Index(['pollster_error', 'year', 'polldistance'], dtype='object'), Index(['year', 'polldistance', 'pollNum'], dtype='object'), Index(['pollster_error', 'year', 'polldistance', 'cand2_pct'], dtype='object'), Index(['samplesize', 'pollster_std'], dtype='object'), Index(['samplesize', 'pollster_std'], dtype='object'), Index(['pollster_std', 'pollster_error'], dtype='object'), Index(['pollster_std', 'polldistance'], dtype='object'), Index(['year', 'polldistance'], dtype='object'), Index(['year', 'polldistance', 'pollNum'], dtype='object'), Index(['samplesize', 'pollster_std'], dtype='object'), Index(['samplesize', 'pollster_std'], dtype='object'), Index(['samplesize', 'pollster_error'], dtype='object'), Index(['pollster_std', 'pollster_error'], dtype='object'), Index(['pollster_std', 'polldistance'], dtype='object'), Index(['year', 'polldistance'], dtype='object'), Index(['pollster_std', 'year', 'polldistance'], dtype='object'), Index(['year', 'polldistance', 'pollNum'], dtype='object'), Index(['samplesize', 'pollster_std'], dtype='object'), Index(['samplesize', 'pollster_std'], dtype='object'), Index(['samplesize', 'pollster_error'], dtype='object'), Index(['pollster_std', 'polldistance'], dtype='object'), Index(['year', 'polldistance'], dtype='object'), Index(['pollster_error', 'year', 'polldistance'], dtype='object'), Index(['year', 'polldistance', 'cand1_pct'], dtype='object'), Index(['year', 'polldistance', 'stateNum'], dtype='object'), Index(['year', 'polldistance', 'pollNum'], dtype='object'), Index(['samplesize', 'year', 'polldistance', 'cand2_pct'], dtype='object'), Index(['pollster_std', 'year', 'polldistance', 'cand2_pct'], dtype='object'), Index(['samplesize', 'pollster_std'], dtype='object'), Index(['samplesize', 'pollster_std'], dtype='object'), Index(['samplesize', 'cand2_pct'], dtype='object'), Index(['samplesize', 'stateNum'], dtype='object'), Index(['pollster_std', 'year'], dtype='object'), Index(['pollster_std', 'polldistance'], dtype='object'), Index(['pollster_error', 'polldistance'], dtype='object'), Index(['year', 'polldistance'], dtype='object'), Index(['year', 'polldistance', 'cand2_pct'], dtype='object'), Index(['year', 'polldistance', 'pollNum'], dtype='object'), Index(['pollster_std', 'pollster_error', 'year', 'polldistance'], dtype='object'), Index(['samplesize', 'pollster_std'], dtype='object'), Index(['samplesize', 'pollster_std'], dtype='object'), Index(['samplesize', 'pollster_error'], dtype='object'), Index(['pollster_std', 'year'], dtype='object'), Index(['pollster_std', 'polldistance'], dtype='object'), Index(['year', 'polldistance'], dtype='object'), Index(['samplesize', 'pollster_std'], dtype='object'), Index(['samplesize', 'pollster_std'], dtype='object'), Index(['samplesize', 'pollster_error'], dtype='object'), Index(['pollster_std', 'polldistance'], dtype='object'), Index(['year', 'polldistance'], dtype='object'), Index(['pollster_std', 'year', 'polldistance'], dtype='object'), Index(['year', 'polldistance', 'cand1_pct'], dtype='object'), Index(['pollster_std', 'pollster_error', 'year', 'polldistance'], dtype='object'), Index(['samplesize', 'pollster_std'], dtype='object'), Index(['samplesize', 'pollster_std'], dtype='object'), Index(['samplesize', 'pollster_error'], dtype='object'), Index(['samplesize', 'cand1_pct'], dtype='object'), Index(['pollster_std', 'polldistance'], dtype='object'), Index(['year', 'polldistance'], dtype='object'), Index(['pollster_std', 'year', 'polldistance'], dtype='object'), Index(['year', 'polldistance', 'cand1_pct', 'stateNum'], dtype='object'), Index(['samplesize', 'pollster_std'], dtype='object'), Index(['samplesize', 'pollster_std'], dtype='object'), Index(['samplesize', 'pollster_error'], dtype='object'), Index(['pollster_std', 'pollster_error'], dtype='object'), Index(['pollster_std', 'polldistance'], dtype='object'), Index(['pollster_error', 'polldistance'], dtype='object'), Index(['year', 'polldistance'], dtype='object'), Index(['pollster_std', 'year', 'polldistance'], dtype='object'), Index(['year', 'polldistance', 'pollNum'], dtype='object'), Index(['pollster_error', 'year', 'polldistance', 'cand1_pct'], dtype='object'), Index(['year', 'polldistance', 'cand2_pct', 'pollNum'], dtype='object'), Index(['samplesize', 'pollster_std'], dtype='object'), Index(['samplesize', 'pollster_std'], dtype='object'), Index(['samplesize', 'pollster_error'], dtype='object'), Index(['pollster_std', 'polldistance'], dtype='object'), Index(['year', 'polldistance'], dtype='object'), Index(['samplesize', 'year', 'polldistance'], dtype='object'), Index(['pollster_std', 'year', 'polldistance'], dtype='object'), Index(['year', 'polldistance', 'cand1_pct'], dtype='object'), Index(['pollster_std', 'year', 'polldistance', 'pollNum'], dtype='object'), Index(['samplesize', 'pollster_std'], dtype='object'), Index(['samplesize', 'pollster_std'], dtype='object'), Index(['pollster_std', 'pollster_error'], dtype='object'), Index(['pollster_std', 'polldistance'], dtype='object'), Index(['year', 'polldistance'], dtype='object'), Index(['year', 'polldistance', 'cand1_pct', 'cand2_pct'], dtype='object'), Index(['samplesize', 'pollster_std'], dtype='object'), Index(['samplesize', 'pollster_std'], dtype='object'), Index(['pollster_std', 'polldistance'], dtype='object'), Index(['pollster_error', 'polldistance'], dtype='object'), Index(['year', 'polldistance'], dtype='object'), Index(['year', 'polldistance', 'stateNum'], dtype='object'), Index(['pollster_std', 'pollster_error', 'year', 'polldistance'], dtype='object'), Index(['samplesize', 'pollster_std'], dtype='object'), Index(['samplesize', 'pollster_std'], dtype='object'), Index(['samplesize', 'pollster_error'], dtype='object'), Index(['pollster_std', 'polldistance'], dtype='object'), Index(['pollster_error', 'polldistance'], dtype='object'), Index(['year', 'polldistance'], dtype='object'), Index(['year', 'polldistance', 'pollNum'], dtype='object'), Index(['pollster_std', 'pollster_error', 'year', 'polldistance'], dtype='object'), Index(['samplesize', 'pollster_std'], dtype='object'), Index(['samplesize', 'pollster_std'], dtype='object'), Index(['samplesize', 'pollster_error'], dtype='object'), Index(['pollster_std', 'polldistance'], dtype='object'), Index(['year', 'polldistance'], dtype='object'), Index(['year', 'polldistance', 'pollNum'], dtype='object'), Index(['pollster_std', 'year', 'polldistance', 'pollNum'], dtype='object'), Index(['pollster_error', 'year', 'polldistance', 'pollNum'], dtype='object'), Index(['samplesize', 'pollster_std'], dtype='object'), Index(['samplesize', 'pollster_std'], dtype='object'), Index(['samplesize', 'polldistance'], dtype='object'), Index(['pollster_std', 'polldistance'], dtype='object'), Index(['pollster_error', 'polldistance'], dtype='object'), Index(['year', 'polldistance'], dtype='object'), Index(['pollster_std', 'year', 'polldistance', 'stateNum'], dtype='object'), Index(['year', 'polldistance', 'cand1_pct', 'cand2_pct'], dtype='object'), Index(['samplesize', 'pollster_std'], dtype='object'), Index(['samplesize', 'pollster_std'], dtype='object'), Index(['samplesize', 'pollster_error'], dtype='object'), Index(['pollster_std', 'pollster_error'], dtype='object'), Index(['pollster_std', 'polldistance'], dtype='object'), Index(['year', 'polldistance'], dtype='object'), Index(['year', 'polldistance', 'cand2_pct'], dtype='object'), Index(['year', 'polldistance', 'cand1_pct', 'pollNum'], dtype='object'), Index(['samplesize', 'pollster_std'], dtype='object'), Index(['samplesize', 'pollster_std'], dtype='object'), Index(['samplesize', 'pollster_error'], dtype='object'), Index(['pollster_std', 'year'], dtype='object'), Index(['pollster_std', 'polldistance'], dtype='object'), Index(['year', 'polldistance'], dtype='object'), Index(['pollster_std', 'year', 'polldistance'], dtype='object'), Index(['pollster_error', 'year', 'polldistance'], dtype='object'), Index(['year', 'polldistance', 'cand1_pct'], dtype='object'), Index(['year', 'polldistance', 'cand2_pct'], dtype='object'), Index(['pollster_std', 'year', 'polldistance', 'pollNum'], dtype='object'), Index(['samplesize', 'pollster_std'], dtype='object'), Index(['samplesize', 'pollster_std'], dtype='object'), Index(['samplesize', 'pollster_error'], dtype='object'), Index(['samplesize', 'cand2_pct'], dtype='object'), Index(['pollster_std', 'polldistance'], dtype='object'), Index(['year', 'polldistance'], dtype='object'), Index(['pollster_std', 'pollster_error', 'year', 'polldistance'], dtype='object'), Index(['pollster_std', 'year', 'polldistance', 'stateNum'], dtype='object'), Index(['year', 'polldistance', 'cand1_pct', 'cand2_pct'], dtype='object'), Index(['year', 'polldistance', 'cand1_pct', 'pollNum'], dtype='object'), Index(['samplesize', 'pollster_std'], dtype='object'), Index(['samplesize', 'pollster_std'], dtype='object'), Index(['samplesize', 'pollster_error'], dtype='object'), Index(['samplesize', 'polldistance'], dtype='object'), Index(['samplesize', 'stateNum'], dtype='object'), Index(['pollster_std', 'polldistance'], dtype='object'), Index(['pollster_error', 'polldistance'], dtype='object'), Index(['year', 'polldistance'], dtype='object'), Index(['pollster_std', 'year', 'polldistance'], dtype='object'), Index(['pollster_error', 'year', 'polldistance'], dtype='object'), Index(['year', 'polldistance', 'cand2_pct'], dtype='object'), Index(['year', 'polldistance', 'stateNum'], dtype='object'), Index(['pollster_std', 'year', 'polldistance', 'stateNum'], dtype='object'), Index(['pollster_error', 'year', 'polldistance', 'pollNum'], dtype='object'), Index(['samplesize', 'pollster_std'], dtype='object'), Index(['samplesize', 'pollster_std'], dtype='object'), Index(['samplesize', 'pollster_error'], dtype='object'), Index(['pollster_std', 'polldistance'], dtype='object'), Index(['year', 'polldistance'], dtype='object'), Index(['pollster_std', 'year', 'polldistance'], dtype='object'), Index(['year', 'polldistance', 'cand1_pct', 'cand2_pct'], dtype='object'), Index(['samplesize', 'pollster_std'], dtype='object'), Index(['samplesize', 'pollster_std'], dtype='object'), Index(['samplesize', 'pollster_error'], dtype='object'), Index(['pollster_std', 'polldistance'], dtype='object'), Index(['year', 'polldistance'], dtype='object'), Index(['year', 'polldistance', 'cand1_pct'], dtype='object'), Index(['year', 'polldistance', 'cand2_pct'], dtype='object'), Index(['samplesize', 'pollster_std'], dtype='object'), Index(['samplesize', 'pollster_std'], dtype='object'), Index(['samplesize', 'pollster_error'], dtype='object'), Index(['pollster_std', 'year'], dtype='object'), Index(['pollster_std', 'polldistance'], dtype='object'), Index(['pollster_error', 'polldistance'], dtype='object'), Index(['year', 'polldistance'], dtype='object'), Index(['pollster_std', 'year', 'polldistance'], dtype='object'), Index(['pollster_error', 'year', 'polldistance'], dtype='object'), Index(['samplesize', 'pollster_std'], dtype='object'), Index(['samplesize', 'pollster_std'], dtype='object'), Index(['samplesize', 'pollster_error'], dtype='object'), Index(['pollster_std', 'polldistance'], dtype='object'), Index(['pollster_error', 'polldistance'], dtype='object'), Index(['year', 'polldistance'], dtype='object'), Index(['pollster_error', 'year', 'polldistance'], dtype='object'), Index(['year', 'polldistance', 'cand2_pct'], dtype='object'), Index(['samplesize', 'pollster_std'], dtype='object'), Index(['samplesize', 'pollster_std'], dtype='object'), Index(['samplesize', 'cand2_pct'], dtype='object'), Index(['pollster_std', 'year'], dtype='object'), Index(['pollster_std', 'polldistance'], dtype='object'), Index(['year', 'polldistance'], dtype='object'), Index(['pollster_std', 'year', 'polldistance'], dtype='object'), Index(['year', 'polldistance', 'cand1_pct'], dtype='object'), Index(['samplesize', 'pollster_std'], dtype='object'), Index(['samplesize', 'pollster_std'], dtype='object'), Index(['pollster_std', 'polldistance'], dtype='object'), Index(['year', 'polldistance'], dtype='object'), Index(['pollster_std', 'pollster_error', 'year', 'polldistance'], dtype='object'), Index(['pollster_std', 'year', 'polldistance', 'stateNum'], dtype='object'), Index(['samplesize', 'pollster_std'], dtype='object'), Index(['samplesize', 'pollster_std'], dtype='object'), Index(['samplesize', 'pollster_error'], dtype='object'), Index(['pollster_std', 'polldistance'], dtype='object'), Index(['year', 'polldistance'], dtype='object'), Index(['pollster_std', 'year', 'polldistance'], dtype='object'), Index(['year', 'polldistance', 'cand1_pct'], dtype='object'), Index(['year', 'polldistance', 'cand2_pct'], dtype='object'), Index(['pollster_error', 'year', 'polldistance', 'cand1_pct'], dtype='object'), Index(['year', 'polldistance', 'stateNum', 'pollNum'], dtype='object'), Index(['samplesize', 'pollster_std'], dtype='object'), Index(['samplesize', 'pollster_std'], dtype='object'), Index(['samplesize', 'pollster_error'], dtype='object'), Index(['pollster_std', 'pollster_error'], dtype='object'), Index(['pollster_std', 'polldistance'], dtype='object'), Index(['year', 'polldistance'], dtype='object'), Index(['samplesize', 'year', 'polldistance'], dtype='object'), Index(['pollster_std', 'year', 'polldistance'], dtype='object'), Index(['year', 'polldistance', 'cand2_pct', 'pollNum'], dtype='object'), Index(['samplesize', 'pollster_std'], dtype='object'), Index(['samplesize', 'pollster_std'], dtype='object'), Index(['pollster_std', 'polldistance'], dtype='object'), Index(['pollster_error', 'polldistance'], dtype='object'), Index(['year', 'polldistance'], dtype='object'), Index(['pollster_std', 'year', 'polldistance'], dtype='object'), Index(['year', 'polldistance', 'stateNum'], dtype='object'), Index(['pollster_std', 'year', 'polldistance', 'cand1_pct'], dtype='object'), Index(['pollster_std', 'year', 'polldistance', 'stateNum'], dtype='object'), Index(['samplesize', 'pollster_std'], dtype='object'), Index(['samplesize', 'pollster_std'], dtype='object'), Index(['samplesize', 'pollster_error'], dtype='object'), Index(['pollster_std', 'polldistance'], dtype='object'), Index(['year', 'polldistance'], dtype='object'), Index(['pollster_std', 'year', 'polldistance'], dtype='object'), Index(['pollster_std', 'pollster_error', 'year', 'polldistance'], dtype='object'), Index(['samplesize', 'pollster_std'], dtype='object'), Index(['samplesize', 'pollster_std'], dtype='object'), Index(['samplesize', 'pollster_error'], dtype='object'), Index(['pollster_std', 'pollster_error'], dtype='object'), Index(['pollster_std', 'polldistance'], dtype='object'), Index(['pollster_error', 'polldistance'], dtype='object'), Index(['year', 'polldistance'], dtype='object'), Index(['pollster_std', 'year', 'polldistance'], dtype='object'), Index(['pollster_error', 'year', 'polldistance'], dtype='object'), Index(['year', 'polldistance', 'stateNum'], dtype='object'), Index(['pollster_error', 'year', 'polldistance', 'stateNum'], dtype='object'), Index(['samplesize', 'pollster_std'], dtype='object'), Index(['samplesize', 'pollster_std'], dtype='object'), Index(['samplesize', 'pollster_error'], dtype='object'), Index(['pollster_std', 'polldistance'], dtype='object'), Index(['pollster_error', 'polldistance'], dtype='object'), Index(['year', 'polldistance'], dtype='object'), Index(['year', 'polldistance', 'stateNum'], dtype='object'), Index(['pollster_error', 'year', 'polldistance', 'stateNum'], dtype='object'), Index(['year', 'polldistance', 'cand1_pct', 'pollNum'], dtype='object'), Index(['samplesize', 'pollster_std'], dtype='object'), Index(['samplesize', 'pollster_std'], dtype='object'), Index(['samplesize', 'cand2_pct'], dtype='object'), Index(['pollster_std', 'pollster_error'], dtype='object'), Index(['pollster_std', 'year'], dtype='object'), Index(['pollster_std', 'polldistance'], dtype='object'), Index(['pollster_error', 'polldistance'], dtype='object'), Index(['year', 'polldistance'], dtype='object'), Index(['pollster_std', 'year', 'polldistance'], dtype='object'), Index(['pollster_error', 'year', 'polldistance'], dtype='object'), Index(['year', 'polldistance', 'cand2_pct'], dtype='object'), Index(['pollster_std', 'year', 'polldistance', 'cand1_pct'], dtype='object'), Index(['pollster_error', 'year', 'polldistance', 'cand1_pct'], dtype='object'), Index(['samplesize', 'pollster_std'], dtype='object'), Index(['samplesize', 'pollster_std'], dtype='object'), Index(['samplesize', 'pollster_error'], dtype='object'), Index(['pollster_std', 'polldistance'], dtype='object'), Index(['pollster_error', 'polldistance'], dtype='object'), Index(['year', 'polldistance'], dtype='object'), Index(['pollster_std', 'year', 'polldistance', 'pollNum'], dtype='object')]\n"
     ]
    }
   ],
   "source": [
    "print(best_ind_vars)"
   ]
  },
  {
   "cell_type": "code",
   "execution_count": 746,
   "metadata": {},
   "outputs": [
    {
     "name": "stdout",
     "output_type": "stream",
     "text": [
      "['fourError', 'rightcall', 'rightcall', 'rightcall', 'rightcall', 'rightcall', 'rightcall', 'fourError', 'rightcall', 'rightcall', 'rightcall', 'rightcall', 'rightcall', 'rightcall', 'fourError', 'rightcall', 'rightcall', 'rightcall', 'rightcall', 'rightcall', 'fourError', 'rightcall', 'rightcall', 'rightcall', 'rightcall', 'rightcall', 'rightcall', 'rightcall', 'fourError', 'rightcall', 'rightcall', 'rightcall', 'rightcall', 'rightcall', 'rightcall', 'rightcall', 'rightcall', 'fourError', 'rightcall', 'rightcall', 'rightcall', 'rightcall', 'rightcall', 'rightcall', 'rightcall', 'rightcall', 'rightcall', 'rightcall', 'rightcall', 'fourError', 'rightcall', 'rightcall', 'rightcall', 'rightcall', 'rightcall', 'rightcall', 'rightcall', 'rightcall', 'rightcall', 'rightcall', 'fourError', 'rightcall', 'rightcall', 'rightcall', 'rightcall', 'rightcall', 'rightcall', 'fourError', 'rightcall', 'rightcall', 'rightcall', 'rightcall', 'rightcall', 'fourError', 'rightcall', 'rightcall', 'rightcall', 'rightcall', 'rightcall', 'rightcall', 'fourError', 'rightcall', 'rightcall', 'rightcall', 'rightcall', 'rightcall', 'fourError', 'rightcall', 'rightcall', 'rightcall', 'rightcall', 'rightcall', 'rightcall', 'rightcall', 'rightcall', 'fourError', 'rightcall', 'rightcall', 'rightcall', 'rightcall', 'rightcall', 'rightcall', 'rightcall', 'rightcall', 'fourError', 'rightcall', 'rightcall', 'rightcall', 'rightcall', 'rightcall', 'rightcall', 'fourError', 'rightcall', 'rightcall', 'rightcall', 'rightcall', 'rightcall', 'rightcall', 'rightcall', 'rightcall', 'rightcall', 'rightcall', 'fourError', 'rightcall', 'rightcall', 'rightcall', 'rightcall', 'rightcall', 'fourError', 'rightcall', 'rightcall', 'rightcall', 'rightcall', 'rightcall', 'rightcall', 'rightcall', 'rightcall', 'fourError', 'rightcall', 'rightcall', 'rightcall', 'rightcall', 'rightcall', 'rightcall', 'rightcall', 'fourError', 'rightcall', 'rightcall', 'rightcall', 'rightcall', 'rightcall', 'rightcall', 'rightcall', 'rightcall', 'rightcall', 'fourError', 'rightcall', 'rightcall', 'rightcall', 'rightcall', 'rightcall', 'rightcall', 'rightcall', 'fourError', 'rightcall', 'rightcall', 'rightcall', 'rightcall', 'rightcall', 'rightcall', 'rightcall', 'rightcall', 'rightcall', 'rightcall', 'fourError', 'rightcall', 'rightcall', 'rightcall', 'rightcall', 'rightcall', 'rightcall', 'rightcall', 'fourError', 'rightcall', 'rightcall', 'rightcall', 'rightcall', 'rightcall', 'rightcall', 'fourError', 'rightcall', 'rightcall', 'rightcall', 'rightcall', 'rightcall', 'rightcall', 'rightcall', 'fourError', 'rightcall', 'rightcall', 'rightcall', 'rightcall', 'rightcall', 'rightcall', 'rightcall', 'rightcall', 'rightcall', 'fourError', 'rightcall', 'rightcall', 'rightcall', 'rightcall', 'fourError', 'rightcall', 'rightcall', 'rightcall', 'rightcall', 'rightcall', 'rightcall', 'rightcall', 'rightcall', 'rightcall', 'rightcall', 'fourError', 'rightcall', 'rightcall', 'rightcall', 'rightcall', 'rightcall', 'rightcall', 'rightcall', 'rightcall', 'rightcall', 'fourError', 'rightcall', 'rightcall', 'rightcall', 'rightcall', 'rightcall', 'rightcall', 'rightcall', 'fourError', 'rightcall', 'rightcall', 'rightcall', 'rightcall', 'rightcall', 'rightcall', 'fourError', 'rightcall', 'rightcall', 'rightcall', 'rightcall', 'rightcall', 'rightcall', 'fourError', 'rightcall', 'rightcall', 'rightcall', 'rightcall', 'rightcall', 'rightcall', 'rightcall', 'rightcall', 'fourError', 'rightcall', 'rightcall', 'rightcall', 'rightcall', 'rightcall', 'rightcall', 'rightcall', 'rightcall', 'fourError', 'rightcall', 'rightcall', 'rightcall', 'fourError', 'rightcall', 'rightcall', 'rightcall', 'rightcall', 'rightcall', 'fourError', 'rightcall', 'rightcall', 'rightcall', 'rightcall', 'rightcall', 'rightcall', 'rightcall', 'rightcall', 'rightcall', 'fourError', 'rightcall', 'rightcall', 'rightcall', 'rightcall', 'rightcall', 'rightcall', 'rightcall', 'rightcall', 'fourError', 'rightcall', 'rightcall', 'rightcall', 'rightcall', 'rightcall', 'rightcall', 'rightcall', 'fourError', 'rightcall', 'rightcall', 'rightcall', 'rightcall', 'rightcall', 'rightcall', 'rightcall', 'fourError', 'rightcall', 'rightcall', 'rightcall', 'rightcall', 'rightcall', 'rightcall', 'rightcall', 'rightcall', 'rightcall', 'fourError', 'rightcall', 'rightcall', 'rightcall', 'rightcall', 'rightcall', 'rightcall', 'rightcall', 'fourError', 'rightcall', 'rightcall', 'rightcall', 'rightcall', 'rightcall', 'rightcall', 'rightcall', 'fourError', 'rightcall', 'rightcall', 'rightcall', 'rightcall', 'rightcall', 'rightcall', 'rightcall', 'rightcall', 'fourError', 'rightcall', 'rightcall', 'rightcall', 'rightcall', 'rightcall', 'rightcall', 'rightcall', 'rightcall', 'rightcall', 'rightcall', 'rightcall', 'rightcall', 'fourError', 'rightcall', 'rightcall', 'rightcall', 'rightcall', 'rightcall', 'rightcall', 'fourError', 'rightcall', 'rightcall', 'rightcall', 'rightcall', 'rightcall', 'rightcall', 'rightcall', 'rightcall', 'fourError', 'rightcall', 'rightcall', 'rightcall', 'rightcall', 'fourError', 'rightcall', 'rightcall', 'rightcall', 'rightcall', 'rightcall', 'rightcall', 'rightcall', 'fourError', 'rightcall', 'rightcall', 'rightcall', 'rightcall', 'rightcall', 'rightcall', 'fourError', 'rightcall', 'rightcall', 'rightcall', 'rightcall', 'rightcall', 'rightcall', 'rightcall', 'rightcall', 'rightcall', 'rightcall', 'fourError', 'rightcall', 'rightcall', 'rightcall', 'rightcall', 'rightcall', 'rightcall', 'rightcall', 'rightcall', 'fourError', 'rightcall', 'rightcall', 'rightcall', 'rightcall', 'rightcall', 'rightcall', 'rightcall', 'rightcall', 'rightcall', 'fourError', 'rightcall', 'rightcall', 'rightcall', 'rightcall', 'rightcall', 'rightcall', 'rightcall', 'rightcall', 'fourError', 'rightcall', 'rightcall', 'rightcall', 'rightcall', 'rightcall', 'rightcall', 'rightcall', 'rightcall', 'fourError', 'rightcall', 'rightcall', 'rightcall', 'rightcall', 'rightcall', 'rightcall', 'rightcall', 'rightcall', 'rightcall', 'rightcall', 'fourError', 'rightcall', 'rightcall', 'rightcall', 'rightcall', 'rightcall', 'rightcall', 'rightcall', 'rightcall', 'rightcall', 'rightcall', 'fourError', 'rightcall', 'rightcall', 'rightcall', 'rightcall', 'rightcall', 'rightcall', 'fourError', 'rightcall', 'rightcall', 'rightcall', 'rightcall', 'rightcall', 'fourError', 'rightcall', 'rightcall', 'rightcall', 'rightcall', 'rightcall', 'rightcall', 'fourError', 'rightcall', 'rightcall', 'rightcall', 'rightcall', 'rightcall', 'rightcall', 'rightcall', 'rightcall', 'fourError', 'rightcall', 'rightcall', 'rightcall', 'rightcall', 'rightcall', 'rightcall', 'rightcall', 'fourError', 'rightcall', 'rightcall', 'rightcall', 'rightcall', 'rightcall', 'rightcall', 'rightcall', 'rightcall', 'fourError', 'rightcall', 'rightcall', 'rightcall', 'rightcall', 'rightcall', 'rightcall', 'rightcall', 'rightcall', 'fourError', 'rightcall', 'rightcall', 'rightcall', 'rightcall', 'rightcall', 'fourError', 'rightcall', 'rightcall', 'rightcall', 'rightcall', 'rightcall', 'rightcall', 'rightcall', 'rightcall', 'fourError', 'rightcall', 'rightcall', 'rightcall', 'rightcall', 'rightcall', 'rightcall', 'rightcall', 'rightcall', 'fourError', 'rightcall', 'rightcall', 'rightcall', 'rightcall', 'rightcall', 'rightcall', 'rightcall', 'rightcall', 'rightcall', 'rightcall', 'fourError', 'rightcall', 'rightcall', 'rightcall', 'rightcall', 'rightcall', 'rightcall', 'rightcall', 'rightcall', 'rightcall', 'rightcall', 'rightcall', 'rightcall', 'fourError', 'rightcall', 'rightcall', 'rightcall', 'rightcall', 'rightcall', 'fourError', 'rightcall', 'rightcall', 'rightcall', 'rightcall', 'rightcall', 'rightcall', 'rightcall', 'fourError', 'rightcall', 'rightcall', 'rightcall', 'rightcall', 'rightcall', 'rightcall', 'rightcall', 'rightcall', 'rightcall', 'rightcall', 'fourError', 'rightcall', 'rightcall', 'rightcall', 'rightcall', 'rightcall', 'rightcall', 'rightcall', 'rightcall', 'rightcall', 'rightcall', 'fourError', 'rightcall', 'rightcall', 'rightcall', 'rightcall', 'rightcall', 'fourError', 'rightcall', 'rightcall', 'rightcall', 'rightcall', 'rightcall', 'rightcall', 'rightcall', 'fourError', 'rightcall', 'rightcall', 'rightcall', 'rightcall', 'rightcall', 'rightcall', 'rightcall', 'fourError', 'rightcall', 'rightcall', 'rightcall', 'rightcall', 'rightcall', 'rightcall', 'rightcall', 'rightcall', 'rightcall', 'rightcall', 'fourError', 'rightcall', 'rightcall', 'rightcall', 'rightcall', 'rightcall', 'rightcall', 'rightcall', 'rightcall', 'fourError', 'rightcall', 'rightcall', 'rightcall', 'rightcall', 'rightcall', 'fourError', 'rightcall', 'rightcall', 'rightcall', 'rightcall', 'rightcall', 'rightcall', 'fourError', 'rightcall', 'rightcall', 'rightcall', 'rightcall', 'rightcall', 'rightcall', 'rightcall', 'fourError', 'rightcall', 'rightcall', 'rightcall', 'rightcall', 'rightcall', 'rightcall', 'rightcall', 'fourError', 'rightcall', 'rightcall', 'rightcall', 'rightcall', 'rightcall', 'rightcall', 'rightcall', 'fourError', 'rightcall', 'rightcall', 'rightcall', 'rightcall', 'rightcall', 'rightcall', 'rightcall', 'fourError', 'rightcall', 'rightcall', 'rightcall', 'rightcall', 'rightcall', 'rightcall', 'rightcall', 'rightcall', 'rightcall', 'rightcall', 'fourError', 'rightcall', 'rightcall', 'rightcall', 'rightcall', 'rightcall', 'rightcall', 'rightcall', 'rightcall', 'rightcall', 'fourError', 'rightcall', 'rightcall', 'rightcall', 'rightcall', 'rightcall', 'rightcall', 'rightcall', 'rightcall', 'rightcall', 'rightcall', 'rightcall', 'rightcall', 'rightcall', 'fourError', 'rightcall', 'rightcall', 'rightcall', 'rightcall', 'rightcall', 'rightcall', 'fourError', 'rightcall', 'rightcall', 'rightcall', 'rightcall', 'rightcall', 'rightcall', 'fourError', 'rightcall', 'rightcall', 'rightcall', 'rightcall', 'rightcall', 'rightcall', 'rightcall', 'rightcall', 'fourError', 'rightcall', 'rightcall', 'rightcall', 'rightcall', 'rightcall', 'rightcall', 'rightcall', 'fourError', 'rightcall', 'rightcall', 'rightcall', 'rightcall', 'rightcall', 'rightcall', 'rightcall', 'fourError', 'rightcall', 'rightcall', 'rightcall', 'rightcall', 'rightcall', 'fourError', 'rightcall', 'rightcall', 'rightcall', 'rightcall', 'rightcall', 'rightcall', 'rightcall', 'rightcall', 'rightcall', 'fourError', 'rightcall', 'rightcall', 'rightcall', 'rightcall', 'rightcall', 'rightcall', 'rightcall', 'rightcall', 'fourError', 'rightcall', 'rightcall', 'rightcall', 'rightcall', 'rightcall', 'rightcall', 'rightcall', 'rightcall', 'fourError', 'rightcall', 'rightcall', 'rightcall', 'rightcall', 'rightcall', 'rightcall', 'fourError', 'rightcall', 'rightcall', 'rightcall', 'rightcall', 'rightcall', 'rightcall', 'rightcall', 'rightcall', 'rightcall', 'rightcall', 'fourError', 'rightcall', 'rightcall', 'rightcall', 'rightcall', 'rightcall', 'rightcall', 'rightcall', 'rightcall', 'fourError', 'rightcall', 'rightcall', 'rightcall', 'rightcall', 'rightcall', 'rightcall', 'rightcall', 'rightcall', 'rightcall', 'rightcall', 'rightcall', 'rightcall', 'fourError', 'rightcall', 'rightcall', 'rightcall', 'rightcall', 'rightcall', 'rightcall']\n"
     ]
    }
   ],
   "source": [
    "print(best_dep_vars)"
   ]
  },
  {
   "cell_type": "code",
   "execution_count": 749,
   "metadata": {},
   "outputs": [
    {
     "name": "stdout",
     "output_type": "stream",
     "text": [
      "753\n"
     ]
    }
   ],
   "source": [
    "print(best_dep_vars.count('rightcall'))"
   ]
  },
  {
   "cell_type": "code",
   "execution_count": 750,
   "metadata": {},
   "outputs": [
    {
     "name": "stdout",
     "output_type": "stream",
     "text": [
      "100\n"
     ]
    }
   ],
   "source": [
    "print(best_dep_vars.count('fourError'))"
   ]
  },
  {
   "cell_type": "code",
   "execution_count": 751,
   "metadata": {},
   "outputs": [
    {
     "name": "stdout",
     "output_type": "stream",
     "text": [
      "853\n"
     ]
    }
   ],
   "source": [
    "print(len(best_dep_vars))"
   ]
  },
  {
   "cell_type": "code",
   "execution_count": 752,
   "metadata": {},
   "outputs": [
    {
     "name": "stdout",
     "output_type": "stream",
     "text": [
      "853\n"
     ]
    }
   ],
   "source": [
    "print(len(best_ind_vars))"
   ]
  },
  {
   "cell_type": "code",
   "execution_count": 758,
   "metadata": {
    "scrolled": true
   },
   "outputs": [],
   "source": [
    "ind0 = best_ind_vars[0]"
   ]
  },
  {
   "cell_type": "code",
   "execution_count": 760,
   "metadata": {},
   "outputs": [
    {
     "data": {
      "text/plain": [
       "pandas.core.indexes.base.Index"
      ]
     },
     "execution_count": 760,
     "metadata": {},
     "output_type": "execute_result"
    }
   ],
   "source": [
    "type(ind0)"
   ]
  },
  {
   "cell_type": "code",
   "execution_count": 761,
   "metadata": {
    "scrolled": true
   },
   "outputs": [
    {
     "name": "stdout",
     "output_type": "stream",
     "text": [
      "Index(['samplesize', 'pollster_std'], dtype='object')\n"
     ]
    }
   ],
   "source": [
    "print(best_ind_vars[0])"
   ]
  },
  {
   "cell_type": "code",
   "execution_count": 762,
   "metadata": {},
   "outputs": [
    {
     "name": "stdout",
     "output_type": "stream",
     "text": [
      "samplesize\n"
     ]
    }
   ],
   "source": [
    "print(best_ind_vars[0][0])"
   ]
  },
  {
   "cell_type": "code",
   "execution_count": 763,
   "metadata": {},
   "outputs": [],
   "source": [
    "indClean = []\n",
    "for x in best_ind_vars:\n",
    "    indSmall = []\n",
    "    for y in x:\n",
    "        indSmall.append(y)\n",
    "    indClean.append(indSmall)"
   ]
  },
  {
   "cell_type": "code",
   "execution_count": 764,
   "metadata": {},
   "outputs": [
    {
     "name": "stdout",
     "output_type": "stream",
     "text": [
      "[['samplesize', 'pollster_std'], ['samplesize', 'pollster_std'], ['samplesize', 'pollster_error'], ['samplesize', 'polldistance'], ['pollster_std', 'polldistance'], ['pollster_error', 'polldistance'], ['year', 'polldistance'], ['samplesize', 'pollster_std'], ['samplesize', 'pollster_std'], ['pollster_std', 'year']]\n"
     ]
    }
   ],
   "source": [
    "print(indClean[:10])"
   ]
  },
  {
   "cell_type": "code",
   "execution_count": 765,
   "metadata": {},
   "outputs": [],
   "source": [
    "indUnique = np.unique(indClean)"
   ]
  },
  {
   "cell_type": "code",
   "execution_count": 766,
   "metadata": {
    "scrolled": true
   },
   "outputs": [
    {
     "name": "stdout",
     "output_type": "stream",
     "text": [
      "['polldistance', 'cand1_pct', 'cand2_pct'] 2\n",
      "['pollster_error', 'polldistance'] 51\n",
      "['pollster_error', 'year', 'polldistance'] 27\n",
      "['pollster_error', 'year', 'polldistance', 'cand1_pct'] 4\n",
      "['pollster_error', 'year', 'polldistance', 'cand2_pct'] 4\n",
      "['pollster_error', 'year', 'polldistance', 'pollNum'] 4\n",
      "['pollster_error', 'year', 'polldistance', 'stateNum'] 6\n",
      "['pollster_std', 'polldistance'] 100\n",
      "['pollster_std', 'pollster_error'] 29\n",
      "['pollster_std', 'pollster_error', 'year', 'polldistance'] 12\n",
      "['pollster_std', 'year'] 24\n",
      "['pollster_std', 'year', 'polldistance'] 47\n",
      "['pollster_std', 'year', 'polldistance', 'cand1_pct'] 10\n",
      "['pollster_std', 'year', 'polldistance', 'cand2_pct'] 6\n",
      "['pollster_std', 'year', 'polldistance', 'pollNum'] 9\n",
      "['pollster_std', 'year', 'polldistance', 'stateNum'] 10\n",
      "['samplesize', 'cand1_pct'] 2\n",
      "['samplesize', 'cand2_pct'] 9\n",
      "['samplesize', 'pollNum'] 4\n",
      "['samplesize', 'polldistance'] 6\n",
      "['samplesize', 'pollster_error'] 64\n",
      "['samplesize', 'pollster_error', 'year', 'polldistance'] 1\n",
      "['samplesize', 'pollster_std'] 200\n",
      "['samplesize', 'pollster_std', 'year', 'polldistance'] 1\n",
      "['samplesize', 'stateNum'] 6\n",
      "['samplesize', 'year'] 1\n",
      "['samplesize', 'year', 'polldistance'] 9\n",
      "['samplesize', 'year', 'polldistance', 'cand1_pct'] 1\n",
      "['samplesize', 'year', 'polldistance', 'cand2_pct'] 1\n",
      "['year', 'polldistance'] 99\n",
      "['year', 'polldistance', 'cand1_pct'] 17\n",
      "['year', 'polldistance', 'cand1_pct', 'cand2_pct'] 9\n",
      "['year', 'polldistance', 'cand1_pct', 'pollNum'] 5\n",
      "['year', 'polldistance', 'cand1_pct', 'stateNum'] 3\n",
      "['year', 'polldistance', 'cand2_pct'] 21\n",
      "['year', 'polldistance', 'cand2_pct', 'pollNum'] 3\n",
      "['year', 'polldistance', 'cand2_pct', 'stateNum'] 3\n",
      "['year', 'polldistance', 'pollNum'] 16\n",
      "['year', 'polldistance', 'stateNum'] 21\n",
      "['year', 'polldistance', 'stateNum', 'pollNum'] 6\n"
     ]
    }
   ],
   "source": [
    "for x in indUnique:\n",
    "    print(x, indClean.count(x))"
   ]
  },
  {
   "cell_type": "code",
   "execution_count": null,
   "metadata": {},
   "outputs": [],
   "source": [
    "#200, 100, 99, 64, 51, 47, 29..."
   ]
  },
  {
   "cell_type": "code",
   "execution_count": null,
   "metadata": {},
   "outputs": [],
   "source": [
    "#Ok: Here's what we know. The best model for predicting polls that are within 4 pct-points of true\n",
    "#is samplesize and pollster_std.\n",
    "#That's only the best model 11.6% of the time, though.\n",
    "\n",
    "#Rest of the time, best model predicts whether the poll got it right: rightCall.\n",
    "#13% of the time for that dep_var, 11% total, best model is samplesize & pollster_std again.\n",
    "#Equal chance of being best: pollster_std and polldistance, year and polldistance. Year's only\n",
    "#good in retrospect, so that's out.\n",
    "\n",
    "#After that, we have samplesize & pollster_error, 8.5%, pollster_error and polldistance, 6.7%,\n",
    "#pollster_std/year/polldistance at 6.2%. Next best is pollster_error and pollster_std 3.4%\n",
    "#of the time. We're just going to cut everything below 5% likelihood out.\n",
    "\n",
    "#69.7% of the time, best model was two-variable.  18.7% for three, 11.5% for four. Never one.\n",
    "\n",
    "#Samplesize, pollster_std is always best for fourError.\n",
    "#Samplesize/pollster_std, pollster_std/polldistance, year/polldistance, samplesize/pollster_error,\n",
    "#pollster_error/polldistance, pollster_std/year/polldistance.\n",
    "\n",
    "#Cut out the year variable and we're left with five variable combinations.\n",
    "\n",
    "#Samplesize/pollster_std vs fourError (11.6%)\n",
    "#Samplesize/pollster_std vs rightCall (11.6%)\n",
    "#Samplesize/pollster_error vs rightCall (8.5%)\n",
    "#polldistance/pollster_std vs rightCall (11.6%)\n",
    "#polldistance/pollster_error vs rightCall (6.7%)\n",
    "\n",
    "#Next best has 3.4% chance of occuring (pollster_std/pollster error)\n",
    "\n",
    "#Unpaired independents are just:\n",
    "#Samplesize, pollster_std, pollster_error, polldistance.\n",
    "\n",
    "#We're going to take these into random forests and see what we get"
   ]
  },
  {
   "cell_type": "code",
   "execution_count": 770,
   "metadata": {},
   "outputs": [],
   "source": [
    "one = 0\n",
    "two = 0\n",
    "three = 0\n",
    "four = 0\n",
    "for x in indClean:\n",
    "    if len(x) == 1:\n",
    "        one += 1\n",
    "    elif len(x) == 2:\n",
    "        two += 1\n",
    "    elif len(x) == 3:\n",
    "        three += 1\n",
    "    elif len(x) == 4:\n",
    "        four += 1\n",
    "    else:\n",
    "        print('error flag!')"
   ]
  },
  {
   "cell_type": "code",
   "execution_count": 772,
   "metadata": {},
   "outputs": [
    {
     "name": "stdout",
     "output_type": "stream",
     "text": [
      "0\n",
      "595\n",
      "160\n",
      "98\n"
     ]
    }
   ],
   "source": [
    "print(one)\n",
    "print(two)\n",
    "print(three)\n",
    "print(four)"
   ]
  },
  {
   "cell_type": "code",
   "execution_count": 88,
   "metadata": {},
   "outputs": [],
   "source": [
    "test = errorPolls[['samplesize', 'pollster_std']]"
   ]
  },
  {
   "cell_type": "code",
   "execution_count": null,
   "metadata": {},
   "outputs": [],
   "source": []
  },
  {
   "cell_type": "code",
   "execution_count": 171,
   "metadata": {
    "scrolled": true
   },
   "outputs": [
    {
     "data": {
      "text/plain": [
       "(0.5453590652487856,\n",
       " 0.558487593540764,\n",
       " 0.3857534246575342,\n",
       " array([[1066,  298],\n",
       "        [ 823,  352]], dtype=int64))"
      ]
     },
     "execution_count": 171,
     "metadata": {},
     "output_type": "execute_result"
    }
   ],
   "source": [
    "mnb_report(errorPolls[['samplesize', 'pollster_std']], errorPolls['fourError'])"
   ]
  },
  {
   "cell_type": "code",
   "execution_count": 182,
   "metadata": {},
   "outputs": [
    {
     "data": {
      "text/plain": [
       "(0.5655769988184325,\n",
       " 0.5793619535250099,\n",
       " 0.4494845360824742,\n",
       " array([[1035,  288],\n",
       "        [ 780,  436]], dtype=int64))"
      ]
     },
     "execution_count": 182,
     "metadata": {},
     "output_type": "execute_result"
    }
   ],
   "source": [
    "mnb_report(errorPolls[['samplesize', 'pollster_error']], errorPolls['fourError'])"
   ]
  },
  {
   "cell_type": "code",
   "execution_count": 184,
   "metadata": {},
   "outputs": [
    {
     "data": {
      "text/plain": [
       "(0.5608507286333202,\n",
       " 0.5722725482473415,\n",
       " 0.45040485829959515,\n",
       " array([[1008,  332],\n",
       "        [ 754,  445]], dtype=int64))"
      ]
     },
     "execution_count": 184,
     "metadata": {},
     "output_type": "execute_result"
    }
   ],
   "source": [
    "mnb_report(errorPolls[['samplesize', 'pollster_std', 'pollster_error']], errorPolls['fourError'])"
   ]
  },
  {
   "cell_type": "code",
   "execution_count": 134,
   "metadata": {},
   "outputs": [
    {
     "data": {
      "text/plain": [
       "(0.5830379414467638,\n",
       " 0.5836943678613628,\n",
       " 0.23127272727272732,\n",
       " array([[1323,  157],\n",
       "        [ 900,  159]], dtype=int64))"
      ]
     },
     "execution_count": 134,
     "metadata": {},
     "output_type": "execute_result"
    }
   ],
   "source": [
    "mnb_report(errorPolls[['samplesize', 'pollster_std']], errorPolls['1.25_log_error'])"
   ]
  },
  {
   "cell_type": "code",
   "execution_count": 136,
   "metadata": {},
   "outputs": [
    {
     "data": {
      "text/plain": [
       "(0.6032558750164106,\n",
       " 0.5691217014572666,\n",
       " 0.3005115089514067,\n",
       " array([[1210,  227],\n",
       "        [ 867,  235]], dtype=int64))"
      ]
     },
     "execution_count": 136,
     "metadata": {},
     "output_type": "execute_result"
    }
   ],
   "source": [
    "mnb_report(errorPolls[['samplesize', 'pollster_error']], errorPolls['1.25_log_error'])"
   ]
  },
  {
   "cell_type": "code",
   "execution_count": 142,
   "metadata": {},
   "outputs": [
    {
     "data": {
      "text/plain": [
       "(0.5910463437048706,\n",
       " 0.6010240252067743,\n",
       " 0.37738168408113093,\n",
       " array([[1219,  264],\n",
       "        [ 749,  307]], dtype=int64))"
      ]
     },
     "execution_count": 142,
     "metadata": {},
     "output_type": "execute_result"
    }
   ],
   "source": [
    "mnb_report(errorPolls[['samplesize', 'pollster_std', 'pollster_error']], errorPolls['1.25_log_error'])"
   ]
  },
  {
   "cell_type": "code",
   "execution_count": 190,
   "metadata": {},
   "outputs": [
    {
     "data": {
      "text/plain": [
       "(0.5378758041223579, 0.537219377707759, 0.4226044226044226, array([[934, 383],\n",
       "        [792, 430]], dtype=int64))"
      ]
     },
     "execution_count": 190,
     "metadata": {},
     "output_type": "execute_result"
    }
   ],
   "source": [
    "mnb_report(errorPolls[['samplesize', 'pollster_std', 'pollster_error', 'stateNum']], errorPolls['fourError'])"
   ]
  },
  {
   "cell_type": "code",
   "execution_count": 194,
   "metadata": {},
   "outputs": [
    {
     "data": {
      "text/plain": [
       "(0.5662334252330313,\n",
       " 0.5746356833398976,\n",
       " 0.4450154162384378,\n",
       " array([[1026,  348],\n",
       "        [ 732,  433]], dtype=int64))"
      ]
     },
     "execution_count": 194,
     "metadata": {},
     "output_type": "execute_result"
    }
   ],
   "source": [
    "mnb_report(errorPolls[['samplesize', 'pollster_std', 'pollster_error', 'pollNum']], errorPolls['fourError'])"
   ]
  },
  {
   "cell_type": "code",
   "execution_count": 98,
   "metadata": {},
   "outputs": [],
   "source": [
    "mnb_data = pd.DataFrame()"
   ]
  },
  {
   "cell_type": "code",
   "execution_count": 200,
   "metadata": {},
   "outputs": [],
   "source": [
    "mnb_data['Independent Variables'] = ['Samplesize, pollster_std', 'Samplesize, pollster_error', \n",
    "                                    'Samplesize, pollster_std, pollster_error', 'Samplesize, pollster_std',\n",
    "                                    'Samplesize, pollster_error', 'Samplesize, pollster_std, pollster_error', \n",
    "                                    'Samplesize, pollster_std, pollster_error, state', \n",
    "                                    'Samplesize, pollster_std, pollster_error, methodology']"
   ]
  },
  {
   "cell_type": "code",
   "execution_count": 201,
   "metadata": {},
   "outputs": [],
   "source": [
    "mnb_data['Dependent Variable'] = ['4% error', '4% error', '4% error', '1.25% log(Error)', \n",
    "                                 '1.25% log(Error)', '1.25% log(Error)', '4% error', '4% error']"
   ]
  },
  {
   "cell_type": "code",
   "execution_count": 202,
   "metadata": {},
   "outputs": [],
   "source": [
    "mnb_data['Training accuracy'] = [.545, .565, .560, .583, .603, .591, .537, .566]"
   ]
  },
  {
   "cell_type": "code",
   "execution_count": 203,
   "metadata": {},
   "outputs": [],
   "source": [
    "mnb_data['Test accuracy'] = [.558, .579, .572, .583, .569, .601, .537, .574]"
   ]
  },
  {
   "cell_type": "code",
   "execution_count": 204,
   "metadata": {},
   "outputs": [],
   "source": [
    "mnb_data['F1-score'] = [.386, .449, .450, .231, .300, .377, .422, .445]"
   ]
  },
  {
   "cell_type": "code",
   "execution_count": 205,
   "metadata": {},
   "outputs": [
    {
     "data": {
      "text/html": [
       "<div>\n",
       "<style scoped>\n",
       "    .dataframe tbody tr th:only-of-type {\n",
       "        vertical-align: middle;\n",
       "    }\n",
       "\n",
       "    .dataframe tbody tr th {\n",
       "        vertical-align: top;\n",
       "    }\n",
       "\n",
       "    .dataframe thead th {\n",
       "        text-align: right;\n",
       "    }\n",
       "</style>\n",
       "<table border=\"1\" class=\"dataframe\">\n",
       "  <thead>\n",
       "    <tr style=\"text-align: right;\">\n",
       "      <th></th>\n",
       "      <th>Independent Variables</th>\n",
       "      <th>Dependent Variable</th>\n",
       "      <th>Training accuracy</th>\n",
       "      <th>Test accuracy</th>\n",
       "      <th>F1-score</th>\n",
       "    </tr>\n",
       "  </thead>\n",
       "  <tbody>\n",
       "    <tr>\n",
       "      <td>0</td>\n",
       "      <td>Samplesize, pollster_std</td>\n",
       "      <td>4% error</td>\n",
       "      <td>0.545</td>\n",
       "      <td>0.558</td>\n",
       "      <td>0.386</td>\n",
       "    </tr>\n",
       "    <tr>\n",
       "      <td>1</td>\n",
       "      <td>Samplesize, pollster_error</td>\n",
       "      <td>4% error</td>\n",
       "      <td>0.565</td>\n",
       "      <td>0.579</td>\n",
       "      <td>0.449</td>\n",
       "    </tr>\n",
       "    <tr>\n",
       "      <td>2</td>\n",
       "      <td>Samplesize, pollster_std, pollster_error</td>\n",
       "      <td>4% error</td>\n",
       "      <td>0.560</td>\n",
       "      <td>0.572</td>\n",
       "      <td>0.450</td>\n",
       "    </tr>\n",
       "    <tr>\n",
       "      <td>3</td>\n",
       "      <td>Samplesize, pollster_std</td>\n",
       "      <td>1.25% log(Error)</td>\n",
       "      <td>0.583</td>\n",
       "      <td>0.583</td>\n",
       "      <td>0.231</td>\n",
       "    </tr>\n",
       "    <tr>\n",
       "      <td>4</td>\n",
       "      <td>Samplesize, pollster_error</td>\n",
       "      <td>1.25% log(Error)</td>\n",
       "      <td>0.603</td>\n",
       "      <td>0.569</td>\n",
       "      <td>0.300</td>\n",
       "    </tr>\n",
       "    <tr>\n",
       "      <td>5</td>\n",
       "      <td>Samplesize, pollster_std, pollster_error</td>\n",
       "      <td>1.25% log(Error)</td>\n",
       "      <td>0.591</td>\n",
       "      <td>0.601</td>\n",
       "      <td>0.377</td>\n",
       "    </tr>\n",
       "    <tr>\n",
       "      <td>6</td>\n",
       "      <td>Samplesize, pollster_std, pollster_error, state</td>\n",
       "      <td>4% error</td>\n",
       "      <td>0.537</td>\n",
       "      <td>0.537</td>\n",
       "      <td>0.422</td>\n",
       "    </tr>\n",
       "    <tr>\n",
       "      <td>7</td>\n",
       "      <td>Samplesize, pollster_std, pollster_error, meth...</td>\n",
       "      <td>4% error</td>\n",
       "      <td>0.566</td>\n",
       "      <td>0.574</td>\n",
       "      <td>0.445</td>\n",
       "    </tr>\n",
       "  </tbody>\n",
       "</table>\n",
       "</div>"
      ],
      "text/plain": [
       "                               Independent Variables Dependent Variable  \\\n",
       "0                           Samplesize, pollster_std           4% error   \n",
       "1                         Samplesize, pollster_error           4% error   \n",
       "2           Samplesize, pollster_std, pollster_error           4% error   \n",
       "3                           Samplesize, pollster_std   1.25% log(Error)   \n",
       "4                         Samplesize, pollster_error   1.25% log(Error)   \n",
       "5           Samplesize, pollster_std, pollster_error   1.25% log(Error)   \n",
       "6    Samplesize, pollster_std, pollster_error, state           4% error   \n",
       "7  Samplesize, pollster_std, pollster_error, meth...           4% error   \n",
       "\n",
       "   Training accuracy  Test accuracy  F1-score  \n",
       "0              0.545          0.558     0.386  \n",
       "1              0.565          0.579     0.449  \n",
       "2              0.560          0.572     0.450  \n",
       "3              0.583          0.583     0.231  \n",
       "4              0.603          0.569     0.300  \n",
       "5              0.591          0.601     0.377  \n",
       "6              0.537          0.537     0.422  \n",
       "7              0.566          0.574     0.445  "
      ]
     },
     "execution_count": 205,
     "metadata": {},
     "output_type": "execute_result"
    }
   ],
   "source": [
    "mnb_data"
   ]
  },
  {
   "cell_type": "code",
   "execution_count": null,
   "metadata": {},
   "outputs": [],
   "source": []
  },
  {
   "cell_type": "code",
   "execution_count": null,
   "metadata": {},
   "outputs": [],
   "source": []
  },
  {
   "cell_type": "code",
   "execution_count": null,
   "metadata": {},
   "outputs": [],
   "source": []
  },
  {
   "cell_type": "code",
   "execution_count": null,
   "metadata": {},
   "outputs": [],
   "source": []
  },
  {
   "cell_type": "code",
   "execution_count": null,
   "metadata": {},
   "outputs": [],
   "source": []
  },
  {
   "cell_type": "code",
   "execution_count": 90,
   "metadata": {},
   "outputs": [],
   "source": [
    "ols_data = pd.DataFrame()"
   ]
  },
  {
   "cell_type": "code",
   "execution_count": 92,
   "metadata": {},
   "outputs": [],
   "source": [
    "ols_data['Independent Variables'] = ['Sample size', 'Sample size', 'Sample size, pollster_std', \n",
    "                                    'Sample size, pollster_std', 'Sample size, pollster_error', \n",
    "                                    'Sample size, pollster_error', 'Sample size, pollster_std, pollster_error', \n",
    "                                     'Sample size, pollster_std, pollster_error']"
   ]
  },
  {
   "cell_type": "code",
   "execution_count": 93,
   "metadata": {},
   "outputs": [],
   "source": [
    "ols_data['Dependent Variable'] = ['Error', 'log(Error)', 'Error', 'log(Error)', 'Error', 'log(Error)', 'Error', 'log(Error)']"
   ]
  },
  {
   "cell_type": "code",
   "execution_count": 94,
   "metadata": {},
   "outputs": [],
   "source": [
    "ols_data['R-squared'] = [0.660, 0.610, 0.836, 0.863, 0.722, 0.802, 0.842, 0.867]"
   ]
  },
  {
   "cell_type": "code",
   "execution_count": 95,
   "metadata": {},
   "outputs": [],
   "source": [
    "ols_data['Adjusted R-squared'] = [0.655, 0.604, 0.832, 0.859, 0.714, 0.797, 0.835, 0.862]"
   ]
  },
  {
   "cell_type": "code",
   "execution_count": 96,
   "metadata": {},
   "outputs": [],
   "source": [
    "ols_data['F-statistic'] = [141.8, 114.0, 184.0, 226.2, 93.5, 145.9, 125.8, 154.7]"
   ]
  },
  {
   "cell_type": "code",
   "execution_count": 97,
   "metadata": {},
   "outputs": [
    {
     "data": {
      "text/html": [
       "<div>\n",
       "<style scoped>\n",
       "    .dataframe tbody tr th:only-of-type {\n",
       "        vertical-align: middle;\n",
       "    }\n",
       "\n",
       "    .dataframe tbody tr th {\n",
       "        vertical-align: top;\n",
       "    }\n",
       "\n",
       "    .dataframe thead th {\n",
       "        text-align: right;\n",
       "    }\n",
       "</style>\n",
       "<table border=\"1\" class=\"dataframe\">\n",
       "  <thead>\n",
       "    <tr style=\"text-align: right;\">\n",
       "      <th></th>\n",
       "      <th>Independent Variables</th>\n",
       "      <th>Dependent Variable</th>\n",
       "      <th>R-squared</th>\n",
       "      <th>Adjusted R-squared</th>\n",
       "      <th>F-statistic</th>\n",
       "    </tr>\n",
       "  </thead>\n",
       "  <tbody>\n",
       "    <tr>\n",
       "      <td>0</td>\n",
       "      <td>Sample size</td>\n",
       "      <td>Error</td>\n",
       "      <td>0.660</td>\n",
       "      <td>0.655</td>\n",
       "      <td>141.8</td>\n",
       "    </tr>\n",
       "    <tr>\n",
       "      <td>1</td>\n",
       "      <td>Sample size</td>\n",
       "      <td>log(Error)</td>\n",
       "      <td>0.610</td>\n",
       "      <td>0.604</td>\n",
       "      <td>114.0</td>\n",
       "    </tr>\n",
       "    <tr>\n",
       "      <td>2</td>\n",
       "      <td>Sample size, pollster_std</td>\n",
       "      <td>Error</td>\n",
       "      <td>0.836</td>\n",
       "      <td>0.832</td>\n",
       "      <td>184.0</td>\n",
       "    </tr>\n",
       "    <tr>\n",
       "      <td>3</td>\n",
       "      <td>Sample size, pollster_std</td>\n",
       "      <td>log(Error)</td>\n",
       "      <td>0.863</td>\n",
       "      <td>0.859</td>\n",
       "      <td>226.2</td>\n",
       "    </tr>\n",
       "    <tr>\n",
       "      <td>4</td>\n",
       "      <td>Sample size, pollster_error</td>\n",
       "      <td>Error</td>\n",
       "      <td>0.722</td>\n",
       "      <td>0.714</td>\n",
       "      <td>93.5</td>\n",
       "    </tr>\n",
       "    <tr>\n",
       "      <td>5</td>\n",
       "      <td>Sample size, pollster_error</td>\n",
       "      <td>log(Error)</td>\n",
       "      <td>0.802</td>\n",
       "      <td>0.797</td>\n",
       "      <td>145.9</td>\n",
       "    </tr>\n",
       "    <tr>\n",
       "      <td>6</td>\n",
       "      <td>Sample size, pollster_std, pollster_error</td>\n",
       "      <td>Error</td>\n",
       "      <td>0.842</td>\n",
       "      <td>0.835</td>\n",
       "      <td>125.8</td>\n",
       "    </tr>\n",
       "    <tr>\n",
       "      <td>7</td>\n",
       "      <td>Sample size, pollster_std, pollster_error</td>\n",
       "      <td>log(Error)</td>\n",
       "      <td>0.867</td>\n",
       "      <td>0.862</td>\n",
       "      <td>154.7</td>\n",
       "    </tr>\n",
       "  </tbody>\n",
       "</table>\n",
       "</div>"
      ],
      "text/plain": [
       "                       Independent Variables Dependent Variable  R-squared  \\\n",
       "0                                Sample size              Error      0.660   \n",
       "1                                Sample size         log(Error)      0.610   \n",
       "2                  Sample size, pollster_std              Error      0.836   \n",
       "3                  Sample size, pollster_std         log(Error)      0.863   \n",
       "4                Sample size, pollster_error              Error      0.722   \n",
       "5                Sample size, pollster_error         log(Error)      0.802   \n",
       "6  Sample size, pollster_std, pollster_error              Error      0.842   \n",
       "7  Sample size, pollster_std, pollster_error         log(Error)      0.867   \n",
       "\n",
       "   Adjusted R-squared  F-statistic  \n",
       "0               0.655        141.8  \n",
       "1               0.604        114.0  \n",
       "2               0.832        184.0  \n",
       "3               0.859        226.2  \n",
       "4               0.714         93.5  \n",
       "5               0.797        145.9  \n",
       "6               0.835        125.8  \n",
       "7               0.862        154.7  "
      ]
     },
     "execution_count": 97,
     "metadata": {},
     "output_type": "execute_result"
    }
   ],
   "source": [
    "ols_data"
   ]
  },
  {
   "cell_type": "code",
   "execution_count": null,
   "metadata": {},
   "outputs": [],
   "source": []
  }
 ],
 "metadata": {
  "kernelspec": {
   "display_name": "Python 3",
   "language": "python",
   "name": "python3"
  },
  "language_info": {
   "codemirror_mode": {
    "name": "ipython",
    "version": 3
   },
   "file_extension": ".py",
   "mimetype": "text/x-python",
   "name": "python",
   "nbconvert_exporter": "python",
   "pygments_lexer": "ipython3",
   "version": "3.7.4"
  }
 },
 "nbformat": 4,
 "nbformat_minor": 2
}
